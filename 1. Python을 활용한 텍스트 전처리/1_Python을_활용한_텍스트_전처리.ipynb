{
  "nbformat": 4,
  "nbformat_minor": 0,
  "metadata": {
    "colab": {
      "provenance": []
    },
    "kernelspec": {
      "name": "python3",
      "display_name": "Python 3"
    },
    "language_info": {
      "name": "python"
    }
  },
  "cells": [
    {
      "cell_type": "markdown",
      "source": [
        "#텍스트전처리에 필요한 라이브러리 설치 코드"
      ],
      "metadata": {
        "id": "sShAVhOJcVp0"
      }
    },
    {
      "cell_type": "code",
      "source": [
        "#[코드 1-1] 텍스트 전처리에 필요한 라이브러리 설치 코드\n",
        "%%bash\n",
        "apt-get update\n",
        "apt-get install g++ openjdk-8-jdk python-dev python3-dev\n",
        "pip3 install JPype1\n",
        "pip3 install konlpy"
      ],
      "metadata": {
        "colab": {
          "base_uri": "https://localhost:8080/"
        },
        "id": "9EeB7aWtcTxh",
        "outputId": "86ccab9e-d3d8-4785-f3cd-1cb3d35dca29"
      },
      "execution_count": 1,
      "outputs": [
        {
          "output_type": "stream",
          "name": "stdout",
          "text": [
            "Get:1 http://security.ubuntu.com/ubuntu jammy-security InRelease [129 kB]\n",
            "Get:2 https://cloud.r-project.org/bin/linux/ubuntu jammy-cran40/ InRelease [3,626 B]\n",
            "Get:3 https://developer.download.nvidia.com/compute/cuda/repos/ubuntu2204/x86_64  InRelease [1,581 B]\n",
            "Hit:4 http://archive.ubuntu.com/ubuntu jammy InRelease\n",
            "Ign:5 https://r2u.stat.illinois.edu/ubuntu jammy InRelease\n",
            "Get:6 https://r2u.stat.illinois.edu/ubuntu jammy Release [5,713 B]\n",
            "Get:7 https://r2u.stat.illinois.edu/ubuntu jammy Release.gpg [793 B]\n",
            "Get:8 http://archive.ubuntu.com/ubuntu jammy-updates InRelease [128 kB]\n",
            "Get:9 https://developer.download.nvidia.com/compute/cuda/repos/ubuntu2204/x86_64  Packages [910 kB]\n",
            "Get:10 https://ppa.launchpadcontent.net/deadsnakes/ppa/ubuntu jammy InRelease [18.1 kB]\n",
            "Hit:11 https://ppa.launchpadcontent.net/graphics-drivers/ppa/ubuntu jammy InRelease\n",
            "Hit:12 http://archive.ubuntu.com/ubuntu jammy-backports InRelease\n",
            "Hit:13 https://ppa.launchpadcontent.net/ubuntugis/ppa/ubuntu jammy InRelease\n",
            "Get:14 http://security.ubuntu.com/ubuntu jammy-security/main amd64 Packages [2,118 kB]\n",
            "Get:15 https://r2u.stat.illinois.edu/ubuntu jammy/main amd64 Packages [2,552 kB]\n",
            "Get:16 https://r2u.stat.illinois.edu/ubuntu jammy/main all Packages [8,218 kB]\n",
            "Get:17 https://ppa.launchpadcontent.net/deadsnakes/ppa/ubuntu jammy/main amd64 Packages [27.8 kB]\n",
            "Get:18 http://archive.ubuntu.com/ubuntu jammy-updates/main amd64 Packages [2,396 kB]\n",
            "Fetched 16.5 MB in 6s (2,903 kB/s)\n",
            "Reading package lists...\n",
            "Reading package lists...\n",
            "Building dependency tree...\n",
            "Reading state information...\n",
            "Package python-dev is not available, but is referred to by another package.\n",
            "This may mean that the package is missing, has been obsoleted, or\n",
            "is only available from another source\n",
            "However the following packages replace it:\n",
            "  python2-dev python2 python-dev-is-python3\n",
            "\n",
            "Collecting JPype1\n",
            "  Downloading JPype1-1.5.0-cp310-cp310-manylinux_2_17_x86_64.manylinux2014_x86_64.whl.metadata (4.9 kB)\n",
            "Requirement already satisfied: packaging in /usr/local/lib/python3.10/dist-packages (from JPype1) (24.1)\n",
            "Downloading JPype1-1.5.0-cp310-cp310-manylinux_2_17_x86_64.manylinux2014_x86_64.whl (488 kB)\n",
            "   ━━━━━━━━━━━━━━━━━━━━━━━━━━━━━━━━━━━━━━━━ 488.6/488.6 kB 2.9 MB/s eta 0:00:00\n",
            "Installing collected packages: JPype1\n",
            "Successfully installed JPype1-1.5.0\n",
            "Collecting konlpy\n",
            "  Downloading konlpy-0.6.0-py2.py3-none-any.whl.metadata (1.9 kB)\n",
            "Requirement already satisfied: JPype1>=0.7.0 in /usr/local/lib/python3.10/dist-packages (from konlpy) (1.5.0)\n",
            "Requirement already satisfied: lxml>=4.1.0 in /usr/local/lib/python3.10/dist-packages (from konlpy) (4.9.4)\n",
            "Requirement already satisfied: numpy>=1.6 in /usr/local/lib/python3.10/dist-packages (from konlpy) (1.26.4)\n",
            "Requirement already satisfied: packaging in /usr/local/lib/python3.10/dist-packages (from JPype1>=0.7.0->konlpy) (24.1)\n",
            "Downloading konlpy-0.6.0-py2.py3-none-any.whl (19.4 MB)\n",
            "   ━━━━━━━━━━━━━━━━━━━━━━━━━━━━━━━━━━━━━━━━ 19.4/19.4 MB 41.2 MB/s eta 0:00:00\n",
            "Installing collected packages: konlpy\n",
            "Successfully installed konlpy-0.6.0\n"
          ]
        },
        {
          "output_type": "stream",
          "name": "stderr",
          "text": [
            "W: Skipping acquire of configured file 'main/source/Sources' as repository 'https://r2u.stat.illinois.edu/ubuntu jammy InRelease' does not seem to provide it (sources.list entry misspelt?)\n",
            "E: Package 'python-dev' has no installation candidate\n"
          ]
        }
      ]
    },
    {
      "cell_type": "markdown",
      "source": [
        "##텍스트전처리 실습"
      ],
      "metadata": {
        "id": "-QvzFv5KdFQ-"
      }
    },
    {
      "cell_type": "code",
      "source": [
        "#[코드 1-2] 토큰화 실습코드\n",
        "from konlpy.tag import Okt\n",
        "t = Okt()\n",
        "pos = lambda d: ['/'.join(p[:-1]) for p in t.pos(d, stem=True, norm=True)]\n",
        "contents = \"청송군 어르신들의 규칙적인 신체활동 활성화에 앞장\"\n",
        "print(pos(contents))"
      ],
      "metadata": {
        "colab": {
          "base_uri": "https://localhost:8080/"
        },
        "id": "8M82Qv7Hcc6R",
        "outputId": "ca937b11-1116-4afb-e468-f16c1025291e"
      },
      "execution_count": 2,
      "outputs": [
        {
          "output_type": "stream",
          "name": "stdout",
          "text": [
            "['청송군', '어르신', '들', '의', '규칙', '적', '인', '신체', '활동', '활성화', '에', '앞장']\n"
          ]
        }
      ]
    },
    {
      "cell_type": "code",
      "source": [
        "#[코드 1-3] 명사추출 코드\n",
        "from konlpy.tag import Okt\n",
        "t = Okt()\n",
        "pos = lambda d: ['/'.join(p[:-1]) for p in t.pos(d, stem=True, norm=True) if (p[1]=='Noun')]\n",
        "contents = \"청송군 어르신들의 규칙적인 신체활동 활성화에 앞장\"\n",
        "print(pos(contents))"
      ],
      "metadata": {
        "colab": {
          "base_uri": "https://localhost:8080/"
        },
        "id": "0gH3haYYcnFv",
        "outputId": "caa49ac3-bcd7-4ed6-eb2b-b2a262075edf"
      },
      "execution_count": 3,
      "outputs": [
        {
          "output_type": "stream",
          "name": "stdout",
          "text": [
            "['청송군', '어르신', '규칙', '신체', '활동', '활성화', '앞장']\n"
          ]
        }
      ]
    },
    {
      "cell_type": "code",
      "source": [
        "#[코드 1-4] 명사, 동사, 형용사 추출 코드\n",
        "from konlpy.tag import Okt\n",
        "t = Okt()\n",
        "pos = lambda d: ['/'.join(p[:-1]) for p in t.pos(d, stem=True, norm=True) if ((p[1]=='Noun') |(p[1]=='Verb') | (p[1]=='Adjective'))]\n",
        "contents = \"청송군 어르신들의 활발하고 규칙적인 신체활동 활성화에 앞장 선다\"\n",
        "print(pos(contents))"
      ],
      "metadata": {
        "colab": {
          "base_uri": "https://localhost:8080/"
        },
        "id": "VokVtOqdcq7i",
        "outputId": "904f9895-e352-459e-fdbe-804fad762e8b"
      },
      "execution_count": 4,
      "outputs": [
        {
          "output_type": "stream",
          "name": "stdout",
          "text": [
            "['청송군', '어르신', '활발하다', '규칙', '신체', '활동', '활성화', '앞장', '서다']\n"
          ]
        }
      ]
    },
    {
      "cell_type": "code",
      "source": [
        "#[코드 1-5] 불용어삭제 코드\n",
        "from konlpy.tag import Okt\n",
        "t = Okt()\n",
        "stopword = [\"앞장\"]\n",
        "pos = lambda d: ['/'.join(p[:-1]) for p in t.pos(d, stem=True, norm=True) if((p[1]=='Noun')             & (p[0] not in stopword))]\n",
        "contents = \"청송군 어르신들의 규칙적인 신체활동 활성화에 앞장\"\n",
        "print(pos(contents))"
      ],
      "metadata": {
        "colab": {
          "base_uri": "https://localhost:8080/"
        },
        "id": "TCcSu2PLcuxB",
        "outputId": "a40c7877-fb2f-4c37-c57e-910aeb3bbef6"
      },
      "execution_count": 6,
      "outputs": [
        {
          "output_type": "stream",
          "name": "stdout",
          "text": [
            "['청송군', '어르신', '규칙', '신체', '활동', '활성화']\n"
          ]
        }
      ]
    },
    {
      "cell_type": "code",
      "source": [
        "#[코드 1-6] 텍스트 정규화 코드\n",
        "from konlpy.tag import Okt\n",
        "t = Okt()\n",
        "stopword = [\"앞장\"]\n",
        "pos = lambda d: ['/'.join(p[:-1]) for p in t.pos(d, stem=True, norm=True) if((p[1]=='Noun')             & (p[0] not in stopword))]\n",
        "contents = \"청송군 어르신들의 규칙적인 신체활동 활성화에 앞장\"\n",
        "a = [ \"노인\" if x == \"어르신\" else x for x in pos(contents)]\n",
        "print(a)"
      ],
      "metadata": {
        "colab": {
          "base_uri": "https://localhost:8080/"
        },
        "id": "OmmlGvjpczfW",
        "outputId": "5288630c-465b-47de-f74d-e322c34bf2dd"
      },
      "execution_count": 7,
      "outputs": [
        {
          "output_type": "stream",
          "name": "stdout",
          "text": [
            "['청송군', '노인', '규칙', '신체', '활동', '활성화']\n"
          ]
        }
      ]
    },
    {
      "cell_type": "markdown",
      "source": [
        "##텍스트 전처리 실전예제\n"
      ],
      "metadata": {
        "id": "inURJ1DCdJ7i"
      }
    },
    {
      "cell_type": "code",
      "source": [
        "#[코드 1-7] 엑셀 자료 불러오기\n",
        "import pandas as pd\n",
        "data = pd.read_excel(\"/content/논문자료.xlsx\")\n",
        "contents = data[\"제목\"]\n",
        "print(contents)"
      ],
      "metadata": {
        "colab": {
          "base_uri": "https://localhost:8080/"
        },
        "id": "YLmuf5NmdBCm",
        "outputId": "083512dd-396a-4b91-fd51-17d7c9863e3d"
      },
      "execution_count": 1,
      "outputs": [
        {
          "output_type": "stream",
          "name": "stdout",
          "text": [
            "0      발달성협응장애 중학생의 소근운동제어특성에 관한 예비연구: Finger Tapping...\n",
            "1      장애 성인의 운동참여가 주관적 건강, IADL을 이중매개로 건강관련 삶의 질에 미치...\n",
            "2      특수체육기관 선택속성과 학부모 만족도 및 지속행동의도의 인과관계: 장애 자녀를 둔 ...\n",
            "3      수정된 IPA 분석을 활용한 장애인생활체육체육지원사업 개선방안 연구 = A Stud...\n",
            "4      장애인체육시설의 유니버설디자인 적용에 대한 요구분석 = Analysis of dem...\n",
            "                             ...                        \n",
            "473    발달장애 아동 및 청소년의 신체활동 촉진을 위한 MGB 기반 부모지원의 이해 = U...\n",
            "474    발달재활서비스에서 건져 낸 특수체육의 가치와 가능성: 성인기 자폐성 자녀를 둔 두 ...\n",
            "475    장애인스포츠강좌이용권 사업의 개선방안 연구 = A Study on the Impro...\n",
            "476    2022 베이징동계패럴림픽 대비 2018 평창동계패럴림픽의 성과와 과제 = Resu...\n",
            "477    스페셜올림픽의 유산에 관한 정책연구 = The Police Study on Lega...\n",
            "Name: 제목, Length: 478, dtype: object\n"
          ]
        }
      ]
    },
    {
      "cell_type": "code",
      "source": [
        "#[코드 1-8] 텍스트 전처리\n",
        "from konlpy.tag import Okt\n",
        "t = Okt()\n",
        "pos = lambda d: ['/'.join(p[:-1]) for p in t.pos(d, stem=True, norm=True) if (p[1]=='Noun')]\n",
        "texts_ko = []\n",
        "for doc in contents:\n",
        "  a = pos(doc)\n",
        "  texts_ko.append(a)"
      ],
      "metadata": {
        "id": "EIlwBECodg7g"
      },
      "execution_count": 2,
      "outputs": []
    },
    {
      "cell_type": "code",
      "source": [
        "#[코드 1-9] 특정단어를 형태소분석기 단어사전에 추가하는 코드\n",
        "\n",
        "import os\n",
        "import sys\n",
        "import shutil\n",
        "\n",
        "def new_word_add(word):\n",
        "  path = '/usr/local/lib/python'+str(sys.version[:4])+'/dist-packages/konlpy/java'\n",
        "  os.chdir(path)\n",
        "  os.getcwd()\n",
        "  os.makedirs('./modify')\n",
        "  os.chdir(path+'/modify')\n",
        "  !jar xvf ../open-korean-text-2.1.0.jar\n",
        "  with open(path +'/modify/org/openkoreantext/processor/util/noun/names.txt') as f:\n",
        "    data = f.read()\n",
        "    data += word+'\\n'\n",
        "  with open(path + '/modify/org/openkoreantext/processor/util/noun/names.txt', 'w') as f:\n",
        "    f.write(data)\n",
        "  with open(path + '/modify/org/openkoreantext/processor/util/noun/names.txt') as f:\n",
        "    data = f.read()\n",
        "  !jar cvf open-korean-text-2.1.0.jar org\n",
        "  shutil.copy(path+'/modify/open-korean-text-2.1.0.jar', path+'/open-korean-text-2.1.0.jar')\n",
        "  shutil.rmtree(path+'/modify')\n",
        "\n",
        "new_word_add('발달성협응장애')"
      ],
      "metadata": {
        "colab": {
          "base_uri": "https://localhost:8080/"
        },
        "id": "2aWUHsgUdneZ",
        "outputId": "c82d671f-53a8-45fe-e357-cd83d602ae01"
      },
      "execution_count": 3,
      "outputs": [
        {
          "output_type": "stream",
          "name": "stdout",
          "text": [
            "  created: META-INF/\n",
            " inflated: META-INF/MANIFEST.MF\n",
            "  created: org/\n",
            "  created: org/openkoreantext/\n",
            "  created: org/openkoreantext/processor/\n",
            " inflated: org/openkoreantext/processor/KoreanTokenJava.class\n",
            "  created: org/openkoreantext/processor/tools/\n",
            " inflated: org/openkoreantext/processor/tools/DeduplicateAndSortDictionaries$.class\n",
            " inflated: org/openkoreantext/processor/tools/CreateParsingExamples$.class\n",
            " inflated: org/openkoreantext/processor/tools/Runnable.class\n",
            " inflated: org/openkoreantext/processor/tools/UpdateAllTheExamples.class\n",
            " inflated: org/openkoreantext/processor/tools/CreatePhraseExtractionExamples$PhraseExample.class\n",
            " inflated: org/openkoreantext/processor/tools/CreatePhraseExtractionExamples.class\n",
            " inflated: org/openkoreantext/processor/tools/CreateParsingExamples$ParsingExample$.class\n",
            " inflated: org/openkoreantext/processor/tools/CreateChunkParsingCandidates$.class\n",
            " inflated: org/openkoreantext/processor/tools/CreateConjugationExamples$.class\n",
            " inflated: org/openkoreantext/processor/tools/CreatePhraseExtractionExamples$.class\n",
            " inflated: org/openkoreantext/processor/tools/UpdateAllTheExamples$.class\n",
            " inflated: org/openkoreantext/processor/tools/DeduplicateAndSortDictionaries.class\n",
            " inflated: org/openkoreantext/processor/tools/CreateChunkParsingCandidates.class\n",
            " inflated: org/openkoreantext/processor/tools/CreateParsingExamples$ParsingExample.class\n",
            " inflated: org/openkoreantext/processor/tools/CreateParsingExamples.class\n",
            " inflated: org/openkoreantext/processor/tools/CreatePhraseExtractionExamples$PhraseExample$.class\n",
            " inflated: org/openkoreantext/processor/tools/CreateConjugationExamples.class\n",
            " inflated: org/openkoreantext/processor/tools/CreateConjugationExamples$ConjugationExample.class\n",
            " inflated: org/openkoreantext/processor/tools/CreateConjugationExamples$ConjugationExample$.class\n",
            " inflated: org/openkoreantext/processor/OpenKoreanTextProcessor.class\n",
            " inflated: org/openkoreantext/processor/OpenKoreanTextProcessorJava.class\n",
            "  created: org/openkoreantext/processor/tokenizer/\n",
            " inflated: org/openkoreantext/processor/tokenizer/KoreanTokenizer$KoreanToken.class\n",
            " inflated: org/openkoreantext/processor/tokenizer/KoreanSentenceSplitter.class\n",
            " inflated: org/openkoreantext/processor/tokenizer/KoreanChunker$.class\n",
            " inflated: org/openkoreantext/processor/tokenizer/KoreanChunker$ChunkMatch.class\n",
            " inflated: org/openkoreantext/processor/tokenizer/Sentence.class\n",
            " inflated: org/openkoreantext/processor/tokenizer/KoreanTokenizer$KoreanToken$.class\n",
            " inflated: org/openkoreantext/processor/tokenizer/KoreanChunker.class\n",
            " inflated: org/openkoreantext/processor/tokenizer/KoreanTokenizer$.class\n",
            " inflated: org/openkoreantext/processor/tokenizer/KoreanTokenizer.class\n",
            " inflated: org/openkoreantext/processor/tokenizer/KoreanChunk.class\n",
            " inflated: org/openkoreantext/processor/tokenizer/ParsedChunk.class\n",
            " inflated: org/openkoreantext/processor/tokenizer/TokenizerProfile$.class\n",
            " inflated: org/openkoreantext/processor/tokenizer/KoreanTokenizer$CandidateParse$.class\n",
            " inflated: org/openkoreantext/processor/tokenizer/KoreanTokenizer$CandidateParse.class\n",
            " inflated: org/openkoreantext/processor/tokenizer/ParsedChunk$.class\n",
            " inflated: org/openkoreantext/processor/tokenizer/Sentence$.class\n",
            " inflated: org/openkoreantext/processor/tokenizer/KoreanChunk$.class\n",
            " inflated: org/openkoreantext/processor/tokenizer/KoreanTokenizer$PossibleTrie.class\n",
            " inflated: org/openkoreantext/processor/tokenizer/KoreanDetokenizer.class\n",
            " inflated: org/openkoreantext/processor/tokenizer/KoreanChunker$ChunkMatch$.class\n",
            " inflated: org/openkoreantext/processor/tokenizer/KoreanDetokenizer$.class\n",
            " inflated: org/openkoreantext/processor/tokenizer/KoreanTokenizer$PossibleTrie$.class\n",
            " inflated: org/openkoreantext/processor/tokenizer/TokenizerProfile.class\n",
            " inflated: org/openkoreantext/processor/tokenizer/KoreanSentenceSplitter$.class\n",
            "  created: org/openkoreantext/processor/util/\n",
            " inflated: org/openkoreantext/processor/util/CharArrayMap$1.class\n",
            " inflated: org/openkoreantext/processor/util/Hangul$DoubleCoda.class\n",
            " inflated: org/openkoreantext/processor/util/Hangul$DoubleCoda$.class\n",
            " inflated: org/openkoreantext/processor/util/KoreanSubstantive$.class\n",
            "  created: org/openkoreantext/processor/util/josa/\n",
            " inflated: org/openkoreantext/processor/util/josa/josa.txt\n",
            "  created: org/openkoreantext/processor/util/adjective/\n",
            " inflated: org/openkoreantext/processor/util/adjective/adjective.txt\n",
            " inflated: org/openkoreantext/processor/util/Hangul$HangulChar.class\n",
            " inflated: org/openkoreantext/processor/util/KoreanPos$KoreanPosTrie.class\n",
            "  created: org/openkoreantext/processor/util/auxiliary/\n",
            " inflated: org/openkoreantext/processor/util/auxiliary/exclamation.txt\n",
            " inflated: org/openkoreantext/processor/util/auxiliary/determiner.txt\n",
            " inflated: org/openkoreantext/processor/util/auxiliary/conjunctions.txt\n",
            " inflated: org/openkoreantext/processor/util/example_chunks.txt\n",
            " inflated: org/openkoreantext/processor/util/KoreanDictionaryProvider.class\n",
            " inflated: org/openkoreantext/processor/util/CharacterUtils$CharacterBuffer.class\n",
            " inflated: org/openkoreantext/processor/util/KoreanConjugation$.class\n",
            "  created: org/openkoreantext/processor/util/substantives/\n",
            " inflated: org/openkoreantext/processor/util/substantives/family_names.txt\n",
            " inflated: org/openkoreantext/processor/util/substantives/given_names.txt\n",
            " inflated: org/openkoreantext/processor/util/substantives/suffix.txt\n",
            " inflated: org/openkoreantext/processor/util/substantives/modifier.txt\n",
            " inflated: org/openkoreantext/processor/util/CharArrayMap$EntryIterator.class\n",
            " inflated: org/openkoreantext/processor/util/CharArrayMap$EmptyCharArrayMap.class\n",
            " inflated: org/openkoreantext/processor/util/CharArrayMap$UnmodifiableCharArrayMap.class\n",
            " inflated: org/openkoreantext/processor/util/example_tweets.txt\n",
            " inflated: org/openkoreantext/processor/util/KoreanDictionaryProvider$.class\n",
            " inflated: org/openkoreantext/processor/util/KoreanSubstantive.class\n",
            " inflated: org/openkoreantext/processor/util/CharacterUtils$Java5CharacterUtils.class\n",
            "  created: org/openkoreantext/processor/util/typos/\n",
            " inflated: org/openkoreantext/processor/util/typos/typos.txt\n",
            " inflated: org/openkoreantext/processor/util/KoreanPos$.class\n",
            " inflated: org/openkoreantext/processor/util/Hangul$HangulChar$.class\n",
            " inflated: org/openkoreantext/processor/util/CharacterUtils.class\n",
            " inflated: org/openkoreantext/processor/util/CharacterUtils$Java4CharacterUtils.class\n",
            " inflated: org/openkoreantext/processor/util/CharArrayMap$EntrySet.class\n",
            "  created: org/openkoreantext/processor/util/noun/\n",
            " inflated: org/openkoreantext/processor/util/noun/twitter.txt\n",
            " inflated: org/openkoreantext/processor/util/noun/congress.txt\n",
            " inflated: org/openkoreantext/processor/util/noun/bible.txt\n",
            " inflated: org/openkoreantext/processor/util/noun/geolocations.txt\n",
            " inflated: org/openkoreantext/processor/util/noun/names.txt\n",
            " inflated: org/openkoreantext/processor/util/noun/slangs.txt\n",
            " inflated: org/openkoreantext/processor/util/noun/lol.txt\n",
            " inflated: org/openkoreantext/processor/util/noun/nouns.txt\n",
            " inflated: org/openkoreantext/processor/util/noun/wikipedia_title_nouns.txt\n",
            " inflated: org/openkoreantext/processor/util/noun/foreign.txt\n",
            " inflated: org/openkoreantext/processor/util/noun/entities.txt\n",
            " inflated: org/openkoreantext/processor/util/noun/kpop.txt\n",
            " inflated: org/openkoreantext/processor/util/noun/company_names.txt\n",
            " inflated: org/openkoreantext/processor/util/noun/spam.txt\n",
            " inflated: org/openkoreantext/processor/util/noun/profane.txt\n",
            " inflated: org/openkoreantext/processor/util/noun/pokemon.txt\n",
            " inflated: org/openkoreantext/processor/util/CharArraySet.class\n",
            " inflated: org/openkoreantext/processor/util/CharArrayMap$MapEntry.class\n",
            "  created: org/openkoreantext/processor/util/adverb/\n",
            " inflated: org/openkoreantext/processor/util/adverb/adverb.txt\n",
            "  created: org/openkoreantext/processor/util/freq/\n",
            " inflated: org/openkoreantext/processor/util/freq/entity-freq.txt.gz\n",
            " inflated: org/openkoreantext/processor/util/CharArrayMap.class\n",
            " inflated: org/openkoreantext/processor/util/Hangul.class\n",
            " inflated: org/openkoreantext/processor/util/KoreanPos.class\n",
            " inflated: org/openkoreantext/processor/util/Hangul$.class\n",
            "  created: org/openkoreantext/processor/util/verb/\n",
            " inflated: org/openkoreantext/processor/util/verb/pre_eomi.txt\n",
            " inflated: org/openkoreantext/processor/util/verb/eomi.txt\n",
            " inflated: org/openkoreantext/processor/util/verb/verb_prefix.txt\n",
            " inflated: org/openkoreantext/processor/util/verb/verb.txt\n",
            " inflated: org/openkoreantext/processor/util/KoreanPos$KoreanPosTrie$.class\n",
            " inflated: org/openkoreantext/processor/util/KoreanConjugation.class\n",
            " inflated: org/openkoreantext/processor/OpenKoreanTextProcessor$.class\n",
            "  created: org/openkoreantext/processor/normalizer/\n",
            " inflated: org/openkoreantext/processor/normalizer/KoreanNormalizer$.class\n",
            " inflated: org/openkoreantext/processor/normalizer/KoreanNormalizer.class\n",
            " inflated: org/openkoreantext/processor/normalizer/KoreanNormalizer$Segment.class\n",
            " inflated: org/openkoreantext/processor/normalizer/KoreanNormalizer$Segment$.class\n",
            "  created: org/openkoreantext/processor/qa/\n",
            " inflated: org/openkoreantext/processor/qa/BatchGetUnknownNouns.class\n",
            " inflated: org/openkoreantext/processor/qa/BatchTokenizeTweets$ParseTime$.class\n",
            " inflated: org/openkoreantext/processor/qa/BatchGetUnknownNouns$ChunkWithTweet$.class\n",
            " inflated: org/openkoreantext/processor/qa/BatchTokenizeTweets.class\n",
            " inflated: org/openkoreantext/processor/qa/BatchTokenizeTweets$.class\n",
            " inflated: org/openkoreantext/processor/qa/BatchGetUnknownNouns$.class\n",
            " inflated: org/openkoreantext/processor/qa/KoreanProcessorSandbox$.class\n",
            " inflated: org/openkoreantext/processor/qa/BatchGetUnknownNouns$ChunkWithTweet.class\n",
            " inflated: org/openkoreantext/processor/qa/BatchTokenizeTweets$ParseTime.class\n",
            " inflated: org/openkoreantext/processor/qa/KoreanProcessorSandbox.class\n",
            "  created: org/openkoreantext/processor/phrase_extractor/\n",
            " inflated: org/openkoreantext/processor/phrase_extractor/KoreanPhraseExtractor$PhraseBuffer.class\n",
            " inflated: org/openkoreantext/processor/phrase_extractor/KoreanPhraseExtractor$KoreanPhrase$.class\n",
            " inflated: org/openkoreantext/processor/phrase_extractor/KoreanPhraseExtractor$PhraseBuffer$.class\n",
            " inflated: org/openkoreantext/processor/phrase_extractor/KoreanPhraseExtractor.class\n",
            " inflated: org/openkoreantext/processor/phrase_extractor/KoreanPhraseExtractor$KoreanPhrase.class\n",
            " inflated: org/openkoreantext/processor/phrase_extractor/KoreanPhraseExtractor$.class\n",
            " inflated: org/openkoreantext/processor/KoreanPosJava.class\n",
            "  created: org/openkoreantext/processor/stemmer/\n",
            " inflated: org/openkoreantext/processor/stemmer/KoreanStemmer.class\n",
            " inflated: org/openkoreantext/processor/stemmer/KoreanStemmer$.class\n",
            "added manifest\n",
            "adding: org/(in = 0) (out= 0)(stored 0%)\n",
            "adding: org/openkoreantext/(in = 0) (out= 0)(stored 0%)\n",
            "adding: org/openkoreantext/processor/(in = 0) (out= 0)(stored 0%)\n",
            "adding: org/openkoreantext/processor/KoreanTokenJava.class(in = 1976) (out= 931)(deflated 52%)\n",
            "adding: org/openkoreantext/processor/tools/(in = 0) (out= 0)(stored 0%)\n",
            "adding: org/openkoreantext/processor/tools/DeduplicateAndSortDictionaries$.class(in = 7154) (out= 3133)(deflated 56%)\n",
            "adding: org/openkoreantext/processor/tools/CreateParsingExamples$.class(in = 5517) (out= 2327)(deflated 57%)\n",
            "adding: org/openkoreantext/processor/tools/Runnable.class(in = 964) (out= 694)(deflated 28%)\n",
            "adding: org/openkoreantext/processor/tools/UpdateAllTheExamples.class(in = 1089) (out= 756)(deflated 30%)\n",
            "adding: org/openkoreantext/processor/tools/CreatePhraseExtractionExamples$PhraseExample.class(in = 3825) (out= 1443)(deflated 62%)\n",
            "adding: org/openkoreantext/processor/tools/CreatePhraseExtractionExamples.class(in = 2516) (out= 1784)(deflated 29%)\n",
            "adding: org/openkoreantext/processor/tools/CreateParsingExamples$ParsingExample$.class(in = 2842) (out= 1010)(deflated 64%)\n",
            "adding: org/openkoreantext/processor/tools/CreateChunkParsingCandidates$.class(in = 5487) (out= 2305)(deflated 57%)\n",
            "adding: org/openkoreantext/processor/tools/CreateConjugationExamples$.class(in = 5881) (out= 2385)(deflated 59%)\n",
            "adding: org/openkoreantext/processor/tools/CreatePhraseExtractionExamples$.class(in = 5989) (out= 2472)(deflated 58%)\n",
            "adding: org/openkoreantext/processor/tools/UpdateAllTheExamples$.class(in = 4383) (out= 1794)(deflated 59%)\n",
            "adding: org/openkoreantext/processor/tools/DeduplicateAndSortDictionaries.class(in = 1117) (out= 823)(deflated 26%)\n",
            "adding: org/openkoreantext/processor/tools/CreateChunkParsingCandidates.class(in = 833) (out= 566)(deflated 32%)\n",
            "adding: org/openkoreantext/processor/tools/CreateParsingExamples$ParsingExample.class(in = 3718) (out= 1429)(deflated 61%)\n",
            "adding: org/openkoreantext/processor/tools/CreateParsingExamples.class(in = 2427) (out= 1732)(deflated 28%)\n",
            "adding: org/openkoreantext/processor/tools/CreatePhraseExtractionExamples$PhraseExample$.class(in = 2974) (out= 1020)(deflated 65%)\n",
            "adding: org/openkoreantext/processor/tools/CreateConjugationExamples.class(in = 2367) (out= 1659)(deflated 29%)\n",
            "adding: org/openkoreantext/processor/tools/CreateConjugationExamples$ConjugationExample.class(in = 3569) (out= 1415)(deflated 60%)\n",
            "adding: org/openkoreantext/processor/tools/CreateConjugationExamples$ConjugationExample$.class(in = 2787) (out= 997)(deflated 64%)\n",
            "adding: org/openkoreantext/processor/OpenKoreanTextProcessor.class(in = 4428) (out= 1997)(deflated 54%)\n",
            "adding: org/openkoreantext/processor/OpenKoreanTextProcessorJava.class(in = 5901) (out= 1995)(deflated 66%)\n",
            "adding: org/openkoreantext/processor/tokenizer/(in = 0) (out= 0)(stored 0%)\n",
            "adding: org/openkoreantext/processor/tokenizer/KoreanTokenizer$KoreanToken.class(in = 6336) (out= 2633)(deflated 58%)\n",
            "adding: org/openkoreantext/processor/tokenizer/KoreanSentenceSplitter.class(in = 1092) (out= 712)(deflated 34%)\n",
            "adding: org/openkoreantext/processor/tokenizer/KoreanChunker$.class(in = 17975) (out= 6790)(deflated 62%)\n",
            "adding: org/openkoreantext/processor/tokenizer/KoreanChunker$ChunkMatch.class(in = 4043) (out= 1704)(deflated 57%)\n",
            "adding: org/openkoreantext/processor/tokenizer/Sentence.class(in = 5985) (out= 3125)(deflated 47%)\n",
            "adding: org/openkoreantext/processor/tokenizer/KoreanTokenizer$KoreanToken$.class(in = 3976) (out= 1402)(deflated 64%)\n",
            "adding: org/openkoreantext/processor/tokenizer/KoreanChunker.class(in = 4232) (out= 2887)(deflated 31%)\n",
            "adding: org/openkoreantext/processor/tokenizer/KoreanTokenizer$.class(in = 25564) (out= 8451)(deflated 66%)\n",
            "adding: org/openkoreantext/processor/tokenizer/KoreanTokenizer.class(in = 6968) (out= 4384)(deflated 37%)\n",
            "adding: org/openkoreantext/processor/tokenizer/KoreanChunk.class(in = 5611) (out= 2907)(deflated 48%)\n",
            "adding: org/openkoreantext/processor/tokenizer/ParsedChunk.class(in = 20517) (out= 8914)(deflated 56%)\n",
            "adding: org/openkoreantext/processor/tokenizer/TokenizerProfile$.class(in = 8169) (out= 2408)(deflated 70%)\n",
            "adding: org/openkoreantext/processor/tokenizer/KoreanTokenizer$CandidateParse$.class(in = 3459) (out= 1111)(deflated 67%)\n",
            "adding: org/openkoreantext/processor/tokenizer/KoreanTokenizer$CandidateParse.class(in = 4616) (out= 1645)(deflated 64%)\n",
            "adding: org/openkoreantext/processor/tokenizer/ParsedChunk$.class(in = 3973) (out= 1500)(deflated 62%)\n",
            "adding: org/openkoreantext/processor/tokenizer/Sentence$.class(in = 2339) (out= 1012)(deflated 56%)\n",
            "adding: org/openkoreantext/processor/tokenizer/KoreanChunk$.class(in = 2361) (out= 1010)(deflated 57%)\n",
            "adding: org/openkoreantext/processor/tokenizer/KoreanTokenizer$PossibleTrie.class(in = 3399) (out= 1429)(deflated 57%)\n",
            "adding: org/openkoreantext/processor/tokenizer/KoreanDetokenizer.class(in = 1660) (out= 1133)(deflated 31%)\n",
            "adding: org/openkoreantext/processor/tokenizer/KoreanChunker$ChunkMatch$.class(in = 2893) (out= 1136)(deflated 60%)\n",
            "adding: org/openkoreantext/processor/tokenizer/KoreanDetokenizer$.class(in = 9889) (out= 4174)(deflated 57%)\n",
            "adding: org/openkoreantext/processor/tokenizer/KoreanTokenizer$PossibleTrie$.class(in = 2862) (out= 1067)(deflated 62%)\n",
            "adding: org/openkoreantext/processor/tokenizer/TokenizerProfile.class(in = 16403) (out= 6666)(deflated 59%)\n",
            "adding: org/openkoreantext/processor/tokenizer/KoreanSentenceSplitter$.class(in = 3359) (out= 1497)(deflated 55%)\n",
            "adding: org/openkoreantext/processor/util/(in = 0) (out= 0)(stored 0%)\n",
            "adding: org/openkoreantext/processor/util/CharArrayMap$1.class(in = 1531) (out= 571)(deflated 62%)\n",
            "adding: org/openkoreantext/processor/util/Hangul$DoubleCoda.class(in = 2930) (out= 1348)(deflated 53%)\n",
            "adding: org/openkoreantext/processor/util/Hangul$DoubleCoda$.class(in = 2155) (out= 963)(deflated 55%)\n",
            "adding: org/openkoreantext/processor/util/KoreanSubstantive$.class(in = 14990) (out= 6195)(deflated 58%)\n",
            "adding: org/openkoreantext/processor/util/josa/(in = 0) (out= 0)(stored 0%)\n",
            "adding: org/openkoreantext/processor/util/josa/josa.txt(in = 5219) (out= 1476)(deflated 71%)\n",
            "adding: org/openkoreantext/processor/util/adjective/(in = 0) (out= 0)(stored 0%)\n",
            "adding: org/openkoreantext/processor/util/adjective/adjective.txt(in = 27250) (out= 9357)(deflated 65%)\n",
            "adding: org/openkoreantext/processor/util/Hangul$HangulChar.class(in = 3185) (out= 1421)(deflated 55%)\n",
            "adding: org/openkoreantext/processor/util/KoreanPos$KoreanPosTrie.class(in = 4390) (out= 1610)(deflated 63%)\n",
            "adding: org/openkoreantext/processor/util/auxiliary/(in = 0) (out= 0)(stored 0%)\n",
            "adding: org/openkoreantext/processor/util/auxiliary/exclamation.txt(in = 1759) (out= 757)(deflated 56%)\n",
            "adding: org/openkoreantext/processor/util/auxiliary/determiner.txt(in = 63) (out= 63)(deflated 0%)\n",
            "adding: org/openkoreantext/processor/util/auxiliary/conjunctions.txt(in = 398) (out= 189)(deflated 52%)\n",
            "adding: org/openkoreantext/processor/util/example_chunks.txt(in = 522978) (out= 163253)(deflated 68%)\n",
            "adding: org/openkoreantext/processor/util/KoreanDictionaryProvider.class(in = 3430) (out= 2003)(deflated 41%)\n",
            "adding: org/openkoreantext/processor/util/CharacterUtils$CharacterBuffer.class(in = 1634) (out= 659)(deflated 59%)\n",
            "adding: org/openkoreantext/processor/util/KoreanConjugation$.class(in = 22440) (out= 7972)(deflated 64%)\n",
            "adding: org/openkoreantext/processor/util/substantives/(in = 0) (out= 0)(stored 0%)\n",
            "adding: org/openkoreantext/processor/util/substantives/family_names.txt(in = 299) (out= 197)(deflated 34%)\n",
            "adding: org/openkoreantext/processor/util/substantives/given_names.txt(in = 1407) (out= 609)(deflated 56%)\n",
            "adding: org/openkoreantext/processor/util/substantives/suffix.txt(in = 325) (out= 224)(deflated 31%)\n",
            "adding: org/openkoreantext/processor/util/substantives/modifier.txt(in = 3395) (out= 1346)(deflated 60%)\n",
            "adding: org/openkoreantext/processor/util/CharArrayMap$EntryIterator.class(in = 3118) (out= 1270)(deflated 59%)\n",
            "adding: org/openkoreantext/processor/util/CharArrayMap$EmptyCharArrayMap.class(in = 2053) (out= 725)(deflated 64%)\n",
            "adding: org/openkoreantext/processor/util/CharArrayMap$UnmodifiableCharArrayMap.class(in = 3062) (out= 859)(deflated 71%)\n",
            "adding: org/openkoreantext/processor/util/example_tweets.txt(in = 86271) (out= 38336)(deflated 55%)\n",
            "adding: org/openkoreantext/processor/util/KoreanDictionaryProvider$.class(in = 20197) (out= 7488)(deflated 62%)\n",
            "adding: org/openkoreantext/processor/util/KoreanSubstantive.class(in = 1336) (out= 1087)(deflated 18%)\n",
            "adding: org/openkoreantext/processor/util/CharacterUtils$Java5CharacterUtils.class(in = 2824) (out= 1393)(deflated 50%)\n",
            "adding: org/openkoreantext/processor/util/typos/(in = 0) (out= 0)(stored 0%)\n",
            "adding: org/openkoreantext/processor/util/typos/typos.txt(in = 5146) (out= 2300)(deflated 55%)\n",
            "adding: org/openkoreantext/processor/util/KoreanPos$.class(in = 12173) (out= 4669)(deflated 61%)\n",
            "adding: org/openkoreantext/processor/util/Hangul$HangulChar$.class(in = 2389) (out= 1022)(deflated 57%)\n",
            "adding: org/openkoreantext/processor/util/CharacterUtils.class(in = 3703) (out= 1716)(deflated 53%)\n",
            "adding: org/openkoreantext/processor/util/CharacterUtils$Java4CharacterUtils.class(in = 2577) (out= 1282)(deflated 50%)\n",
            "adding: org/openkoreantext/processor/util/CharArrayMap$EntrySet.class(in = 2788) (out= 1181)(deflated 57%)\n",
            "adding: org/openkoreantext/processor/util/noun/(in = 0) (out= 0)(stored 0%)\n",
            "adding: org/openkoreantext/processor/util/noun/twitter.txt(in = 254) (out= 162)(deflated 36%)\n",
            "adding: org/openkoreantext/processor/util/noun/congress.txt(in = 26494) (out= 9351)(deflated 64%)\n",
            "adding: org/openkoreantext/processor/util/noun/bible.txt(in = 2032) (out= 1005)(deflated 50%)\n",
            "adding: org/openkoreantext/processor/util/noun/geolocations.txt(in = 5423) (out= 2267)(deflated 58%)\n",
            "adding: org/openkoreantext/processor/util/noun/names.txt(in = 947) (out= 566)(deflated 40%)\n",
            "adding: org/openkoreantext/processor/util/noun/slangs.txt(in = 1565) (out= 921)(deflated 41%)\n",
            "adding: org/openkoreantext/processor/util/noun/lol.txt(in = 1337) (out= 744)(deflated 44%)\n",
            "adding: org/openkoreantext/processor/util/noun/nouns.txt(in = 219319) (out= 84134)(deflated 61%)\n",
            "adding: org/openkoreantext/processor/util/noun/wikipedia_title_nouns.txt(in = 1971964) (out= 686708)(deflated 65%)\n",
            "adding: org/openkoreantext/processor/util/noun/foreign.txt(in = 10485) (out= 4686)(deflated 55%)\n",
            "adding: org/openkoreantext/processor/util/noun/entities.txt(in = 108142) (out= 44095)(deflated 59%)\n",
            "adding: org/openkoreantext/processor/util/noun/kpop.txt(in = 5371) (out= 2495)(deflated 53%)\n",
            "adding: org/openkoreantext/processor/util/noun/company_names.txt(in = 1631) (out= 905)(deflated 44%)\n",
            "adding: org/openkoreantext/processor/util/noun/spam.txt(in = 202) (out= 157)(deflated 22%)\n",
            "adding: org/openkoreantext/processor/util/noun/profane.txt(in = 569) (out= 337)(deflated 40%)\n",
            "adding: org/openkoreantext/processor/util/noun/pokemon.txt(in = 1781) (out= 965)(deflated 45%)\n",
            "adding: org/openkoreantext/processor/util/CharArraySet.class(in = 4886) (out= 1944)(deflated 60%)\n",
            "adding: org/openkoreantext/processor/util/CharArrayMap$MapEntry.class(in = 2433) (out= 1078)(deflated 55%)\n",
            "adding: org/openkoreantext/processor/util/adverb/(in = 0) (out= 0)(stored 0%)\n",
            "adding: org/openkoreantext/processor/util/adverb/adverb.txt(in = 65572) (out= 18741)(deflated 71%)\n",
            "adding: org/openkoreantext/processor/util/freq/(in = 0) (out= 0)(stored 0%)\n",
            "adding: org/openkoreantext/processor/util/freq/entity-freq.txt.gz(in = 385753) (out= 385873)(deflated 0%)\n",
            "adding: org/openkoreantext/processor/util/CharArrayMap.class(in = 11923) (out= 4878)(deflated 59%)\n",
            "adding: org/openkoreantext/processor/util/Hangul.class(in = 3981) (out= 2731)(deflated 31%)\n",
            "adding: org/openkoreantext/processor/util/KoreanPos.class(in = 6890) (out= 3877)(deflated 43%)\n",
            "adding: org/openkoreantext/processor/util/Hangul$.class(in = 7625) (out= 3114)(deflated 59%)\n",
            "adding: org/openkoreantext/processor/util/verb/(in = 0) (out= 0)(stored 0%)\n",
            "adding: org/openkoreantext/processor/util/verb/pre_eomi.txt(in = 285) (out= 185)(deflated 35%)\n",
            "adding: org/openkoreantext/processor/util/verb/eomi.txt(in = 12618) (out= 3556)(deflated 71%)\n",
            "adding: org/openkoreantext/processor/util/verb/verb_prefix.txt(in = 47) (out= 52)(deflated -10%)\n",
            "adding: org/openkoreantext/processor/util/verb/verb.txt(in = 32758) (out= 10723)(deflated 67%)\n",
            "adding: org/openkoreantext/processor/util/KoreanPos$KoreanPosTrie$.class(in = 3157) (out= 1089)(deflated 65%)\n",
            "adding: org/openkoreantext/processor/util/KoreanConjugation.class(in = 1550) (out= 1237)(deflated 20%)\n",
            "adding: org/openkoreantext/processor/OpenKoreanTextProcessor$.class(in = 7716) (out= 2400)(deflated 68%)\n",
            "adding: org/openkoreantext/processor/normalizer/(in = 0) (out= 0)(stored 0%)\n",
            "adding: org/openkoreantext/processor/normalizer/KoreanNormalizer$.class(in = 11553) (out= 5102)(deflated 55%)\n",
            "adding: org/openkoreantext/processor/normalizer/KoreanNormalizer.class(in = 2980) (out= 2181)(deflated 26%)\n",
            "adding: org/openkoreantext/processor/normalizer/KoreanNormalizer$Segment.class(in = 3470) (out= 1422)(deflated 59%)\n",
            "adding: org/openkoreantext/processor/normalizer/KoreanNormalizer$Segment$.class(in = 2577) (out= 989)(deflated 61%)\n",
            "adding: org/openkoreantext/processor/qa/(in = 0) (out= 0)(stored 0%)\n",
            "adding: org/openkoreantext/processor/qa/BatchGetUnknownNouns.class(in = 2307) (out= 1702)(deflated 26%)\n",
            "adding: org/openkoreantext/processor/qa/BatchTokenizeTweets$ParseTime$.class(in = 2418) (out= 1015)(deflated 58%)\n",
            "adding: org/openkoreantext/processor/qa/BatchGetUnknownNouns$ChunkWithTweet$.class(in = 2376) (out= 952)(deflated 59%)\n",
            "adding: org/openkoreantext/processor/qa/BatchTokenizeTweets.class(in = 2720) (out= 2031)(deflated 25%)\n",
            "adding: org/openkoreantext/processor/qa/BatchTokenizeTweets$.class(in = 10867) (out= 4401)(deflated 59%)\n",
            "adding: org/openkoreantext/processor/qa/BatchGetUnknownNouns$.class(in = 8751) (out= 3532)(deflated 59%)\n",
            "adding: org/openkoreantext/processor/qa/KoreanProcessorSandbox$.class(in = 1464) (out= 823)(deflated 43%)\n",
            "adding: org/openkoreantext/processor/qa/BatchGetUnknownNouns$ChunkWithTweet.class(in = 3080) (out= 1338)(deflated 56%)\n",
            "adding: org/openkoreantext/processor/qa/BatchTokenizeTweets$ParseTime.class(in = 3153) (out= 1446)(deflated 54%)\n",
            "adding: org/openkoreantext/processor/qa/KoreanProcessorSandbox.class(in = 824) (out= 575)(deflated 30%)\n",
            "adding: org/openkoreantext/processor/phrase_extractor/(in = 0) (out= 0)(stored 0%)\n",
            "adding: org/openkoreantext/processor/phrase_extractor/KoreanPhraseExtractor$PhraseBuffer.class(in = 4857) (out= 1609)(deflated 66%)\n",
            "adding: org/openkoreantext/processor/phrase_extractor/KoreanPhraseExtractor$KoreanPhrase$.class(in = 3358) (out= 1148)(deflated 65%)\n",
            "adding: org/openkoreantext/processor/phrase_extractor/KoreanPhraseExtractor$PhraseBuffer$.class(in = 3564) (out= 1087)(deflated 69%)\n",
            "adding: org/openkoreantext/processor/phrase_extractor/KoreanPhraseExtractor.class(in = 6005) (out= 3967)(deflated 33%)\n",
            "adding: org/openkoreantext/processor/phrase_extractor/KoreanPhraseExtractor$KoreanPhrase.class(in = 6942) (out= 2591)(deflated 62%)\n",
            "adding: org/openkoreantext/processor/phrase_extractor/KoreanPhraseExtractor$.class(in = 37855) (out= 12404)(deflated 67%)\n",
            "adding: org/openkoreantext/processor/KoreanPosJava.class(in = 2457) (out= 1241)(deflated 49%)\n",
            "adding: org/openkoreantext/processor/stemmer/(in = 0) (out= 0)(stored 0%)\n",
            "adding: org/openkoreantext/processor/stemmer/KoreanStemmer.class(in = 1439) (out= 972)(deflated 32%)\n",
            "adding: org/openkoreantext/processor/stemmer/KoreanStemmer$.class(in = 7044) (out= 2892)(deflated 58%)\n"
          ]
        }
      ]
    },
    {
      "cell_type": "code",
      "source": [
        "#[코드 1-10] 불용어 사전을 생성하는 코드\n",
        "from konlpy.tag import Okt\n",
        "import pandas as pd\n",
        "import nltk\n",
        "def stopword(datas):\n",
        "  t = Okt()\n",
        "  pos = lambda d: ['/'.join(p[:-1]) for p in t.pos(d, stem=True, norm=True) if (p[1]=='Noun')]\n",
        "  texts_ko = []\n",
        "  for doc in datas:\n",
        "    a = pos(doc)\n",
        "    texts_ko.append(a)\n",
        "  word = [text for texts in texts_ko for text in texts]\n",
        "  text = nltk.Text(word)\n",
        "  df = pd.DataFrame()\n",
        "  keys = []\n",
        "  values = []\n",
        "  for key, value in text.vocab().items():\n",
        "    keys.append(key)\n",
        "    values.append(value)\n",
        "  df[\"단어\"] = keys\n",
        "  df[\"빈도수\"] = values\n",
        "  df.to_excel(\"/content/stopword.xlsx\")\n",
        "\n",
        "stopword(contents)"
      ],
      "metadata": {
        "id": "w62yc-5sesRC"
      },
      "execution_count": 5,
      "outputs": []
    },
    {
      "cell_type": "code",
      "source": [
        "#[코드 1-11] 불용어 삭제와 텍스트 정규화 코드\n",
        "from konlpy.tag import Okt\n",
        "\n",
        "t = Okt()\n",
        "stopword = pd.read_excel(\"/content/stopword.xlsx\")[\"단어\"].dropna().tolist()\n",
        "pos = lambda d: ['/'.join(p[:-1]) for p in t.pos(d, stem=True, norm=True) if ((p[1]=='Noun')           & (p[0] in stopword))]\n",
        "texts_ko = []\n",
        "for doc in contents:\n",
        "  a = pos(doc)\n",
        "  b = [\"협응력\" if x == \"협응성\" else \"지도자\" if x == \"지도사\" else\n",
        "        \"문제\" if x == \"문제점\" else \"한국\" if x == \"대한민국\" else x for x in a]\n",
        "  texts_ko.append(b)\n",
        "print(texts_ko)"
      ],
      "metadata": {
        "colab": {
          "base_uri": "https://localhost:8080/"
        },
        "id": "wKF0ut-lffQp",
        "outputId": "03fd8a0f-9b43-4b7c-cf3e-29fcace2864d"
      },
      "execution_count": 7,
      "outputs": [
        {
          "output_type": "stream",
          "name": "stdout",
          "text": [
            "[['발달성협응장애', '중학생', '운동', '제어', '특성', '예비'], ['장애', '성인', '운동', '참여', '주관', '건강', '중매', '건강', '영향'], ['특수', '체육', '기관', '선택', '성과', '학부모', '만족도', '행동', '의도', '인과관계', '장애', '자녀', '학부모'], ['수정', '장애인', '생활', '체육', '체육', '지원', '사업', '개선', '방안'], ['장애인체육', '시설', '유니버설', '디자인'], ['코로나', '지체', '장애인', '볼링', '호인', '경기', '영상', '청동기', '스포츠', '태도', '스포츠', '가치관', '영향'], ['모델', '이용', '장애인', '전용', '체육', '시설', '서비스', '품질', '성과', '고객', '만족', '계수', '지수'], ['생활', '체육', '지체', '장애', '론볼', '동호', '지각', '지도자', '비언', '커뮤니케이션', '유지', '운동', '수행', '만족'], ['토픽', '모델링', '연결', '지적장애', '특수', '체육', '동향'], ['장애인', '생활', '체육', '지도자', '감정노동', '직무', '스트레스', '아웃'], ['장애', '학생', '체육', '활동', '활성화', '특수교육', '장애인체육', '방안'], ['장애인', '여가', '스포츠', '시설', '접근성', '한국', '미국', '여가', '스포츠', '시설', '법률', '비교'], ['지적장애', '사회', '기술', '향상', '신체', '활동', '신체', '활동', '중재', '효과', '크기', '차이', '국내', '중심'], ['장애', '노인', '운동', '참여', '영향', '요인', '탐색', '고령화', '장애인', '노화', '장애인', '비교'], ['장애인스포츠', '선수', '경기', '향상', '체계', '문헌', '고찰'], ['아동', '부모', '아동', '부모', '정신', '신체', '건강', '문제', '차이', '신체', '활동', '연관', '미국', '데이터', '중심'], ['특수', '체육', '지도자', '보완', '대체', '의사소통', '현장', '방안'], ['장애인', '생활', '체육', '지도자', '코칭', '행동', '구성', '요인'], ['유니버설', '디자인', '원리', '장애인체육', '시설', '프로그램', '평가', '지표', '개발'], ['산소', '운동', '혈관', '질환', '위험', '남성', '노인', '운동', '능력', '효과'], ['특수', '체육', '프린팅', '기술', '가능성', '탐색', '실제'], ['통합체육', '자폐', '장애', '학생', '문제', '행동', '감소', '행동수정', '자문', '모델', '예비'], ['장애인', '생활', '체육', '실태', '조사', '생활', '체육', '개념', '정의', '재정', '필요성'], ['체육', '활동', '참여', '정도', '장애', '용의', '종단', '상호', '인과관계', '지체', '청각', '시각장애', '중심'], ['장애인스포츠', '지도자', '장애인스포츠', '인식', '잠재', '프로파일', '분류', '교육', '자질', '차이'], ['노인', '스포츠', '스태킹', '참가', '재미', '여가', '몰입', '심리', '행복감'], ['뇌손상', '환자', '사회', '지지', '운동', '행동', '실천', '건강', '증진', '영향'], ['필라테스', '프로그램', '노인', '체력', '균형감각', '낙상', '지수', '영향'], ['중증', '병변', '장애', '학생', '기능', '체력', '향상', '운동', '프로그램', '효과'], ['피드백', '호흡', '운동', '어지럼증', '노인환', '호흡', '기능', '호흡', '성도', '영향'], ['장애인체육', '정책', '딜레마', '종목', '시도', '경기', '단체', '행정', '조직', '서비스', '행정', '전달', '체계', '개선', '방안', '탐색'], ['예비', '장애인스포츠', '지도자', '임파워먼트', '직무', '만족', '영향'], ['장애인스포츠', '지도자', '자존감', '자기', '관리', '교육', '자질'], ['장애', '청소년', '모험', '체육', '수업'], ['지체', '장애', '청소년', '운동', '참여', '자아존중감', '사회', '적응', '행복감', '비교'], ['중증', '장애인운동', '프로그램', '참가자', '경험'], ['장애인', '생활', '체육', '지도자', '셀프', '리더십', '회복', '탄력성'], ['장애', '학생', '통합체육', '수업', '참여', '장애인', '변화', '교우', '영향'], ['청각장애', '운동', '만족', '건강', '신념', '구조'], ['척수', '장애', '선수', '운동', '경구', '부하', '검사', '인슐린', '반응', '개선', '효과'], ['전국', '기초지방자치단체', '장애인', '체육', '진흥', '조례', '결정', '요인', '경제', '사회', '지리', '요인', '중심'], ['장애인', '재활', '운동', '체육', '지도자', '양성', '교육과정', '개발'], ['장애인스포츠', '실업팀', '고용', '현실', '운영', '특성'], ['중증', '병변', '장애인', '기능', '체력', '향상', '운동', '프로그램', '구성', '요인', '중요도', '라반', '포트', '이론', '중심'], ['청각장애', '계획', '행동', '운동', '지속', '의도', '건강', '증진', '행동'], ['노인', '장기간', '사회', '서비스', '신체', '활동', '프로그램', '신체조', '성과', '신체', '기능', '폐지', '구력', '효과'], ['훈련', '아동', '운동', '타이밍', '운동', '수행', '행동', '증상', '영향'], ['휠체어', '농구', '선수', '셔틀런', '이용', '최고', '산소', '섭취', '추정', '개발'], ['특수', '체육', '복합', '학문', '가능성'], ['국내', '장애인스포츠', '동향'], ['장애인', '체육', '활동', '차별', '실태', '장애인', '차별금지법', '실효', '강화'], ['장애인스포츠', '레저', '학교', '설치', '운영', '방안'], ['장애인스포츠', '경기', '향상', '수요', '중심', '지원', '모델', '제안'], ['장애인', '체육', '영재', '발굴', '기초', '매트릭스'], ['시각장애', '노인', '체력', '증진', '신체', '활동'], ['신체', '활동', '참여', '가능성', '탐색'], ['장애인', '스포츠', '발전', '방안'], ['창작', '무용', '노인', '지체', '장애인', '신체', '수행', '균형', '이동성', '영향'], ['지체', '장애인', '라이프스타일', '건강', '증진', '행동', '스포츠', '태도', '매개', '효과'], ['자기', '결정성', '이론', '근거', '심리', '욕구', '도구', '타당성', '뇌손상', '환자', '중심'], ['대중', '장애인스포츠', '인식', '수준', '장애인스포츠', '홍보', '이벤트', '수용', '관련성', '중심'], ['특수', '체육', '전공', '학생', '장애', '아동', '서비스', '러닝', '경험'], ['예비', '특수', '체육교사', '교사', '창의', '역량', '중요도', '실행', '인식'], ['심리', '운동', '자폐', '장애', '아동', '수업', '참여', '행동', '영향'], ['심리', '운동', '활성화', '요인', '상대', '중요도', '순위'], ['특수', '체육', '전통', '질적연구', '실천'], ['장애인체육', '자원', '봉사활동', '참여', '동기', '자아', '효능', '진로', '성숙', '구조'], ['생애', '주기', '장애', '정도', '장애인', '생활', '체육', '활성화', '방안'], ['평창', '동계올림픽', '평창', '동계', '패럴림픽', '기간', '소셜', '미디어', '관심', '차이'], ['운동', '중재', '뇌성마비', '아동', '보행', '능력', '효과', '메타분석'], ['거울', '시각', '피드백', '이용', '매트', '필라테스', '운동', '만성', '뇌졸중', '환자', '균형', '영향'], ['장애인', '생활', '체육', '지도자', '스트레스', '처방', '직무', '매너리즘'], ['발달성협응장애', '중학생', '장애', '중학생', '인지', '하량', '정보처리', '속도', '비교'], ['지체', '장애인', '장애인', '복지관', '신체', '활동', '프로그램', '참여', '성감', '상실'], ['예비', '특수', '체육', '교사', '서번트', '리더십', '인식'], ['동화', '심리', '운동', '프로그램', '발달장애', '유아', '주의력', '영향'], ['감각', '자극', '심리', '운동', '지적장애', '아동', '뇌파', '변화', '영향'], ['질적연구', '공부', '과정'], ['척수', '장애', '운동선수', '휠체어', '럭비', '입문', '적응', '과정', '탐색'], ['장애', '노인', '운동', '재활', '가상현실', '기술'], ['장애인', '운동선수', '은퇴', '경험', '은퇴', '개념'], ['통합', '수영', '장애', '학생', '태도', '유형'], ['생활', '체육', '참여', '실태', '조사', '비교', '운동', '비참', '장애인', '체육', '활동', '참여', '활성화', '방안'], ['장애물', '트레드밀', '보행', '훈련', '마비', '노인', '환자', '시간', '공간', '보행', '요인', '영향'], ['장애인', '차별', '경험', '잠재', '집단', '분류', '정신건강', '건강', '행동', '차이'], ['특수', '체육', '지도자', '양성', '과정', '진로'], ['한국', '특수', '체육', '서비스', '전달', '체계'], ['산업혁명', '노인', '체육', '가상현실', '중심'], ['장애인', '생활', '체육', '활성화', '초등학교', '수영장', '시설', '방안'], ['플로', '프로그램', '지적장애', '학생', '운동', '수행', '능력', '심박', '이도', '영향'], ['트램펄린', '신체', '활동', '프로그램', '지적장애', '아동', '협응력', '영향'], ['운동', '재활', '프로그램', '참여', '장애', '노인', '영향'], ['지체', '장애인', '체육', '활동', '참여', '생활', '만족', '인과', '모형', '건강', '만족', '여가', '만족', '장애', '용의', '다중', '매개', '효과'], ['장애인', '차별', '경험', '질의', '경로', '모형', '스트레스', '자립생활', '신체', '활동', '매개', '효과'], ['통합', '모델', '지체', '장애인', '생활', '체육', '참여', '의도', '이해'], ['골볼', '시각장애인', '생활', '체육', '발전', '공헌', '지도자', '순의', '구술', '생애'], ['장애인', '생활', '체육', '지도자', '핵심', '역량', '질문지', '개발', '당화'], ['장애', '아동', '청소년', '운동', '응력', '중재', '프로그램', '효과', '메타'], ['소도구', '운동', '프로그램', '노인', '신체조', '일상생활', '체력', '건강', '영향'], ['노인', '건강', '증진', '행위', '운동', '지속', '보상', '매개', '효과'], ['휠체어', '농구', '선수', '자유투', '시도', '기능', '등급', '여부', '탐색', '차이'], ['지체', '장애인', '가족', '스키', '프로그램', '실행'], ['회문', '예술', '교육', '장애인', '무용', '가치', '인식'], ['재활', '운동', '체육', '프로그램', '유형', '뇌성마비', '아동', '동작', '운동', '기능', '균형', '효과', '무작위', '메타분석'], ['지체', '장애', '노인', '신체', '활동', '요구', '유형', '특성', '주관성', '탐구', '자기', '결정성', '이론', '중심'], ['평창동', '패럴림픽', '레거시', '결산', '고찰'], ['평창동', '패럴림픽', '대회', '핵심', '목표', '레거시', '정책'], ['장애인', '스포츠', '차별', '구별', '담론'], ['통합체육', '교사', '지도', '능력', '예비', '체육교사', '인식', '유형', '중심'], ['장애인', '크로스컨트리', '스키', '경기', '남자', '선수', '스키', '동작', '운동학', '요인', '평가'], ['장애인', '크로스컨트리', '스키', '경기', '코스', '형태', '구간', '더블', '폴링', '동작', '운동학', '특성'], ['중강', '신체', '활동', '참여', '노인', '생태학', '요인'], ['고혈압', '체질량지수', '분류', '노인', '체력', '수준', '차이'], ['지체', '장애인', '운동', '참여', '잠재', '프로파일', '분류', '심리', '안녕', '현실', '용도'], ['생활', '체육', '참여', '지체', '장애인', '기본', '심리', '욕구', '운동', '만족', '사회', '행동'], ['장애인스포츠', '지도자', '현실', '자격증', '취득', '변화', '중심'], ['장애인', '활동', '서비스', '특수', '체육', '방안', '탐색'], ['텍스트', '이닝', '기법', '패럴림픽', '해외', '동향'], ['통합체육', '수업', '참여', '지적장애', '아동', '기능', '지수', '영향'], ['한국', '스포츠', '발전', '자의', '구술', '생애', '휠체어', '탁구', '론볼', '선구자', '송신'], ['수중', '운동', '병행', '전정', '재활', '운동', '어지럼증', '노인환', '호흡', '능력', '균형', '능력', '어지럼증', '영향'], ['골볼', '경기', '공격', '형태', '경기'], ['장애인스포츠', '지도자', '고용', '불안', '아웃', '증후군', '영향'], ['휠체어', '스포츠', '경기', '관람객', '지체', '장애인스포츠', '이미지', '장애', '태도', '영향'], ['변형', '골프', '프로그램', '지적장애', '학생', '지각', '주의', '집중', '영향'], ['뉴스', '포츠', '프로그램', '중심', '통합', '체육', '교실', '운영', '정서', '행동', '장애', '청소년', '문제', '행동', '사회', '기술', '영향'], ['태권도', '품새', '수련', '지체', '장애', '노인', '인지', '능력', '영향'], ['플로', '프로그램', '지적장애', '학생', '건강', '체력', '주의', '집중', '영향'], ['배구', '선수', '필드', '체력', '향상', '체력', '훈련', '프로그램', '효과'], ['배구', '선수', '필드', '체력', '기술', '향상', '체력', '훈련', '프로그램', '효과'], ['심리', '운동', '중재', '체육', '교육과정'], ['지체', '장애인', '생활', '체육', '참여', '심리', '행복감', '회복', '탄력성'], ['지체', '장애', '선수', '스포츠', '활동', '참여', '수준', '운동', '정이', '사회', '지지', '자기효능감', '영향'], ['특수', '체육', '강의', '예비', '체육', '지도자', '통합체육', '인식', '태도', '판단', '변화'], ['특수', '체육', '빅데이터', '가능성', '탐색'], ['기대', '가치', '모델', '장애인', '엘리트', '선수', '운동', '정체', '성과', '성취', '행동', '구조', '지원', '체계', '수준', '조절', '효과'], ['장애인', '댄스', '스포츠', '선수', '경기', '참여', '경쟁상태', '불안', '특성', '불안'], ['장애', '아동', '발달', '재활', '서비스', '로서', '심리', '운동', '현황', '발전', '방안'], ['장애인', '심리', '운동', '국내', '실험', '고찰'], ['예비', '특수', '체육교사', '예비', '체육교사', '윤리', '민감', '가치', '정향', '비교'], ['통합체육', '수업', '경험', '장애', '청소년', '장애', '수용', '태도', '변화', '효과', '메타분석'], ['농촌', '노인', '신체', '수행', '근력', '균형', '능력', '향상', '창작', '무용', '프로그램', '개발', '효과'], ['평창동', '패럴림픽', '동계', '패럴림픽', '유산'], ['국내', '장애인', '생활', '체육', '현황', '시사', '모색', '한국', '영국', '미국', '일본', '사례', '중심'], ['지적장애', '청소년', '운동', '수행', '타이밍', '능력', '영향'], ['장애', '학생', '도전', '행동', '예비', '체육교사', '감정', '반응'], ['대학생', '평창동', '패럴림픽', '브랜드', '지식', '브랜드', '태도', '방문', '의사', '인과관계'], ['발달', '재활', '서비스', '로서', '특수', '체육', '서비스', '이용', '부모', '지각', '서비스', '만족도', '이용', '의사'], ['장애', '아동', '발달', '재활', '서비스', '로서', '심리', '운동', '전문성', '효과', '탐색'], ['특수', '아동', '부모', '심리', '운동', '프로그램', '선택', '속성', '순위'], ['발달장애', '아동', '부모', '심리', '운동', '프로그램', '선택', '속성', '순위'], ['지체', '장애인', '성감', '자신감', '운동', '수행', '모형'], ['기술', '기용', '휠체어', '개발', '과정'], ['장애인스포츠', '승부조작', '고찰'], ['지체', '장애', '엘리트', '선수', '지각', '코칭', '지식', '적합', '성과', '현실', '용도'], ['지적장애', '아동', '운동', '능력', '주의', '집중', '또래', '상호작용', '향상', '커뮤니티', '댄스', '프로그램', '개발'], ['직장', '장애인', '건강', '체력', '관리', '어려움'], ['장애인스포츠', '지도자', '자격증', '취득', '동기', '직업', '가치관', '직업', '선택'], ['장애인', '재활', '발달', '지원', '심리', '운동', '프로그램', '구성', '요인', '상대', '중요도', '탐색'], ['예비', '체육교사', '통합체육', '자기효능감', '검사', '도구', '당화'], ['직류', '기자', '노인', '평형', '수행'], ['연산', '교육', '프로그램', '지적장애', '과제', '처리', '속도', '주의', '집중', '영향'], ['발달', '재활', '서비스', '로서', '특수', '체육'], ['인권', '패러다임', '관점', '장애인', '체육', '활동', '모형'], ['다문화', '사회', '대비', '특수', '체육', '보조', '교사', '역할', '책임'], ['자폐', '장애인', '사회', '스포츠', '동호회'], ['특수', '체육교사', '통합', '스포츠', '동아리', '운영', '경험', '탐색'], ['특수교육', '기본', '교육과정', '초등학교', '체육', '수업', '목표', '개정', '교육', '목표', '분류학', '중심'], ['미디어', '교육', '체육', '수업', '초등학생', '장애인스포츠', '인식', '장애인', '수용', '태도', '효과'], ['지식', '네트워크', '특수', '체육', '동향'], ['장애인스포츠', '브랜드', '아이덴티티', '포지셔닝', '마케팅', '믹스', '개발'], ['여성', '노인', '당뇨병', '환자', '심폐', '체력', '평가', '타당성'], ['코어', '운동', '참여', '지적장애', '학생', '자세', '건강', '체력', '영향'], ['특수', '교사', '체육', '수업', '인식', '방해', '요인'], ['예비', '장애인스포츠', '지도자', '윤리', '민감', '성과', '직업', '윤리', '의식'], ['장기간', '태극권', '운동', '고혈압', '노인', '혈압', '심박수', '혈중', '지질', '영향'], ['장애인', '체육', '활동', '태도', '요인', '탐색', '지체', '장애인', '중심'], ['발달장애', '학생', '신체', '활동', '지도', '예비', '특수', '체육교사', '경험', '사이클', '프로그램', '사례'], ['지체', '장애인', '건강', '증진', '동기', '모형', '단계', '사전', '진단', '도구', '중심'], ['노인', '인지', '기능', '운동', '기술', '관련성'], ['심리', '운동', '신체', '활동', '지적장애', '아동', '운동', '수행', '능력', '영향'], ['스포츠', '참여', '현실', '극복', '장애인', '골볼', '학생', '선수', '참여', '경험'], ['국가대표', '척수', '손상', '선수', '손상', '수준', '참여', '운동', '종목', '심폐', '능력', '주관절', '근력', '비교'], ['휠체어', '육상', '선수', '체력', '트레이닝', '프로그램', '모형', '개발'], ['반복', '기자', '성인', '노인', '자동화', '운동', '수행', '변화'], ['배드민턴', '참여', '지체', '장애인', '사회', '체형', '불안', '자아', '탄력성'], ['특수', '체육', '증강현실', '효과', '방향성', '제안'], ['장애인체육', '종합', '훈련', '시설', '개선', '요인', '상대', '중요도'], ['장애', '노인', '신체', '활동', '참여', '제약', '요인', '탐색'], ['장애인', '여가', '스포츠', '활동', '저해', '요인', '설문지', '개발'], ['통합체육', '체육교사', '태도', '문헌'], ['안정화', '운동', '노인', '기능', '체력', '평형'], ['한국', '미국', '특수', '체육', '동향', '비교', '중심'], ['장애인', '엘리트', '사격', '선수', '지각', '제약', '요인'], ['척수', '장애인', '비장', '애인', '최대', '운동', '검사', '최대', '생리', '반응', '비교'], ['대중', '지각', '평창', '동계', '패럴림픽', '인식', '브랜드', '방안'], ['장애인', '건강', '운동', '관리사', '필요성', '발전', '방안'], ['노년', '재활', '운동', '참여', '제약', '요인', '구성'], ['재활승마', '프로그램', '지적장애', '균형', '능력', '뇌파', '영향'], ['특수', '체육교사', '역도', '선수', '과정', '내러티브'], ['극성', '장애인', '운동', '영양', '교육', '참여', '효과', '체계', '문헌', '고찰'], ['장애인스포츠', '지도자', '직무', '환경', '직무', '스트레스', '프리젠티즘', '인과관계'], ['장애인', '은퇴', '선수', '실태', '조사', '지원', '방안'], ['장애인체육', '변화', '활성화', '방안', '문재인', '정부', '장애인체육', '사업', '중심'], ['보호', '시설', '활동', '서비스', '이용', '성인', '발달장애', '신체', '활동', '질의', '자기효능감', '매개', '효과'], ['확장', '계획', '행동', '이론', '장애인', '엘리트', '선수', '도핑', '의도'], ['장애인', '국가대표', '선수', '은퇴', '인식', '진로', '지원', '방향', '탐색'], ['기록', '시각장애인', '축구', '경기', '패럴림픽', '기록', '중심'], ['파크', '골프', '참여자', '파크', '골프장', '선택', '속성', '요인', '탐색'], ['장애인스포츠', '지도자', '양성', '생활', '체육', '학과', '교육과정', '교육', '제안'], ['장애', '노인', '신체', '활동', '활성화', '요인', '상대', '중요도', '평가', '지표', '개발'], ['장애인', '동계', '패럴림픽', '성공', '결실', '엘리트', '선수', '지원', '체계'], ['댄스', '스포츠', '참여', '청각장애', '신체', '구성', '심폐', '기능', '균형', '능력', '영향'], ['재활', '체육', '역할', '탐색', '장애인체육', '방안'], ['국가대표', '시각장애', '장애', '유도', '선수', '등속', '근력', '무산', '소성', '운동', '능력'], ['규칙', '수중', '운동', '성인', '지적장애', '건강', '체력', '효과'], ['번안', '신뢰'], ['재활승마', '뇌성마비', '아동', '평형', '영향'], ['스포츠', '경기', '무도', '체육', '교육', '로서', '장애인', '태권도', '수련', '의의'], ['발달장애', '지각', '운동', '능력', '요가', '프로그램', '효과'], ['비디오게임', '가상현실', '운동', '프로그램', '발달장애', '성인', '건강', '체력', '신체', '활동', '수준', '영향'], ['특수', '체육', '정상화', '특성'], ['스포츠', '활동', '참가', '장애인', '스포츠', '가치관', '사회', '자본', '영향'], ['대중', '지각', '장애인스포츠', '인식', '잠재', '프로파일', '분류', '생태학', '변인', '영향력'], ['집중', '치료', '중재', '뇌성마비', '아동', '기능', '독립성', '변화'], ['뉴스', '포츠', '활동', '지적장애', '학생', '신경근', '운동', '발달', '영향'], ['소뇌', '질환', '환자', '운동', '기능', '회복', '재활', '운동', '원리', '전략'], ['문화', '체육관', '광부', '체제', '장애인', '생활', '체육', '현실', '정책', '순위'], ['재활승마', '프로그램', '아동', '심리', '영향'], ['태극권', '운동', '소아', '청소년', '주의', '집중', '균형', '능력', '영향'], ['휠체어', '테니스', '선수', '성취', '목표', '성향', '시합', '경쟁', '상태', '불안', '영향'], ['장애인', '궁도', '협회', '발전', '방안', '경기', '협회', '운영', '접근'], ['특수', '학교', '운동', '실태', '활성화', '방안'], ['농아인', '체육', '연맹', '법인화', '방안'], ['장애인', '엘리트', '선수', '지각', '지원', '체계', '문제', '내용'], ['장애', '아동', '체육', '교실', '봉사활동', '참여', '장애', '학생', '장애인', '인식', '태도', '장애인', '신체', '활동', '탐색', '사례'], ['가상현실', '활동', '뇌성마비', '아동', '상지', '기능', '지각', '발달', '영향', '사례'], ['장애인스포츠', '세계', '화로', '전략', '접근'], ['지체', '장애', '탁구선수', '심리', '기술', '훈련', '경험', '현상학', '해석'], ['발달장애', '학생', '특수', '체육', '프로그램', '프로그램', '체력', '비교', '경험', '탐색'], ['런던', '패럴림픽', '대비', '사격', '국가대표', '심리', '기술', '훈련', '단일', '사례'], ['자기', '결정이론', '발달장애', '아동', '신체', '활동', '주관성', '탐색'], ['생태학', '사정', '교수', '적합', '화가', '중복', '장애', '학생', '체육', '수업', '참여', '행동', '영향'], ['장애인스포츠', '이미지', '측정', '도구', '개발'], ['장애인운동', '선수', '인권', '확립', '복지', '향상', '방안'], ['장애', '개념', '다중', '패러다임', '장애인스포츠', '인식', '척도', '개발'], ['복합', '운동', '정신분열증', '환자', '기초', '체력', '우울', '증상', '영향'], ['운동', '기능', '검사', '운동', '프로그램', '지적장애', '기능', '지수', '운동', '수행', '능력', '영향'], ['지적장애', '아동', '운동', '능력', '또래', '상호작용', '커뮤니티', '스키', '프로그램', '효과'], ['특수', '체육', '동향'], ['만성', '부전', '마비', '장애인', '심폐', '체력', '보행', '능력', '관련성'], ['특수', '체육', '교육', '학생', '학업', '자기효능감', '학업', '기대', '학과', '만족', '구조', '모형'], ['태권도', '수련', '지적장애', '등속', '기능', '기능', '지수', '변화'], ['레트', '증후군', '아동', '보행', '운동', '프로그램', '효과', '단일'], ['특수', '학교', '체육교사', '체육', '수업', '지도', '경험', '탐색'], ['작별', '난이도', '지적', '자폐', '장애', '학생', '운동', '수행', '능력'], ['장애인', '체육', '교실', '참여', '대학생', '자원봉사자', '참여', '동기', '역할', '갈등', '자긍심', '영향'], ['장애인스포츠', '실업팀', '고용', '기관', '협력', '방안'], ['장애인체육', '지도자', '자기효능감', '전문성', '직무', '만족도', '영향'], ['장애인', '재활', '체육', '딜레마', '생활', '체육'], ['승마', '운동', '발달장애', '아동', '체력', '신체', '부모', '만족도', '영향'], ['지체', '장애인', '스포츠', '참여', '정도', '라이프스타일', '생활', '만족도'], ['장애', '학생', '체육', '활동', '지도', '예비', '특수', '체육교사', '성적', '쓰기', '성적', '사고', '수준', '변화'], ['지체', '장애', '생활', '체육', '호인', '장애', '수용', '자아존중감', '행복감', '관련성'], ['보편', '학습', '설계', '중학교', '통합체육', '수업', '장애', '학생', '장애', '학생', '태도', '수업', '참여', '영향'], ['지적장애', '건강', '체력', '비만', '도의'], ['시각장애인', '여가', '제약', '여가', '동기', '여가', '만족', '영향'], ['중학교', '통합체육', '수업', '교수', '적합', '화가', '경도', '지체', '장애', '학생', '신체', '활동', '수준', '상호작용', '영향'], ['장애', '청소년', '배드민턴', '기능', '동작', '수행', '능력', '변화'], ['장애인', '신체', '활동', '지원', '심리', '운동', '사의', '직무'], ['비만', '지적장애', '학생', '수영', '참여', '신체조', '기능', '지수', '변화'], ['초발', '뇌졸중', '고령자', '탄성', '밴드', '운동', '중단', '보행', '체력', '보행', '능력', '영향'], ['휠체어', '농구', '선수', '에르', '미터', '운동', '부하', '검사', '운동', '속도', '생리', '반응', '비교'], ['지역', '사회', '장애인체육', '현황', '발전', '방안', '경상남도', '중심'], ['장애', '학생', '체육', '활동', '현황', '발전', '방안'], ['휠체어', '농구', '공격', '변인', '코칭', '전략', '향상', '방안'], ['오버헤드', '타격', '동작', '발달장애', '아동', '장애', '아동', '상지', '운동학', '변인', '비교'], ['태극권', '프로그램', '지적장애', '청소년', '신체', '구성', '건강', '체력', '영향'], ['휠체어', '농구', '선수', '공동체', '의식', '탐색'], ['성인', '지적장애', '인과', '일반인', '신체', '활동', '건강', '체력', '혈관', '질환', '위험', '요인', '비교'], ['장애인체육', '윤리문제', '해결', '방안', '윤리', '강령', '윤리', '교육', '고찰'], ['전통', '프로그램', '지적장애', '아동', '문화', '정체', '영향'], ['기법', '이용', '장애인스포츠', '지도자', '직무'], ['한국', '미국', '일본', '장애인체육', '법률'], ['커뮤니티', '댄스', '프로그램', '지적장애', '사회', '적응', '행동', '정서', '능력'], ['자연휴양림', '이용', '장애인스포츠', '발전', '방안'], ['자치구', '특수', '체육', '교실', '운영', '특성', '가치', '질적', '사례'], ['장애인', '생활환경', '운동', '행동', '변화', '과정'], ['런던', '파랄림픽', '대회', '참가', '한국', '선수', '훈련', '스포츠', '상해'], ['중저항', '운동', '지적장애', '아동', '뇌파', '혈중', '지질', '변화', '영향'], ['휠체어', '테니스', '선수', '수행', '수준', '선수', '경력', '신체', '자기', '개념', '참여', '동기'], ['지적장애', '성인', '신체', '활동', '건강', '체력', '신체조', '혈압', '혈당'], ['체육', '지도자', '자격', '제도', '개편', '장애인스포츠', '지도자', '양성', '가능성', '탐색'], ['특수', '체육', '수업', '예비', '특수', '체육교사', '인식'], ['런던', '패럴림픽', '대비', '탁구', '국가대표', '심리', '기술', '훈련', '단일', '사례'], ['장애인', '신체', '활동', '실무', '경험', '적응', '과정', '예비', '지도자', '인식', '변화'], ['초등학교', '특수', '학급', '특수', '교사', '장애', '학생', '체육', '활동', '도시', '딜레마', '사례', '근거', '이론', '중심'], ['텍스트', '이닝', '토픽', '모델링', '한국', '특수', '체육', '학회', '동향'], ['특수', '체육교사', '장애', '학생', '스포츠', '활동', '지도', '경험', '통합교육', '현장', '중심'], ['성인', '지적장애', '신체', '활동', '참여', '인과', '극복', '지원'], ['재활', '체육', '동향', '프로그램', '효과', '메타분석', '국내', '중심'], ['지체', '장애인', '운동', '가치', '건강', '신념', '운동', '지속', '인과관계', '건강', '증진', '행동', '조절', '효과', '혼합'], ['노인', '신체', '활동', '변화', '우울', '코로나', '영향', '중심'], ['생애', '탐구', '생애', '경험', '성찰'], ['지적장애', '아동', '국내', '운동', '중재', '동향'], ['뇌성마비', '장애인', '경험', '나이', '신체', '심리', '변화'], ['특수', '체육', '역할', '미래', '방향'], ['지체', '장애인', '심리', '안녕', '척도', '구성', '모형'], ['시각장애', '노인', '운동', '참여', '수준', '주관', '건강', '평가'], ['장애인', '전문', '체육', '선수', '코칭', '지식', '스포츠', '수행', '전략', '인지', '경기', '인과관계'], ['해외', '사례', '장애인체육', '선수', '육성', '제언', '독일', '영국', '중국', '사례', '중심'], ['산림', '공익', '가치', '공유', '실천', '제안', '장애인'], ['장애인체육', '스포츠', '보조공학', '융합', '제언'], ['신체', '활동', '가치', '애로', '사항', '설문지', '심리측정학', '특성'], ['휠체어컬링', '세계', '선수권대회', '참가', '휠체어컬링', '국가대표', '경기', '내용'], ['특수', '체육', '전공', '대학생', '스포츠', '가치관', '교직', '선택', '동기', '영향'], ['저항', '운동', '프로그램', '지적장애', '아동', '신체조', '성과', '혈중', '지질', '성장', '인자', '영향'], ['전통', '무예', '국궁', '교실', '참여', '지체', '청각장애', '정신건강', '회복', '탄력성', '영향'], ['웹사이트', '이용', '중재', '뇌성마비', '장애인', '스쿠버', '다이빙', '수행', '효과'], ['런던', '패럴림픽', '사진', '한국', '신문', '포토저널리즘'], ['장애인', '체육', '조직', '장애', '당사자', '참여', '구성원', '인식'], ['비정규직', '특수', '체육', '지도자', '직무', '스트레스', '조직', '몰입', '직무', '만족', '구조', '모형'], ['변화', '단계', '지체', '장애인', '신체', '활동', '참여', '제약', '요인'], ['체육', '전공', '대학생', '장애인', '사회', '거리', '척도', '요인', '구조', '탐색'], ['지적장애', '학생', '학교생활', '휴식시간', '점심시간', '신체', '활동', '신체', '활동', '내용'], ['지적장애', '아동', '슬링', '운동', '체력', '기능', '운동', '수행', '능력', '영향'], ['승마', '프로그램', '시각장애', '중년', '여성', '저압', '영향'], ['특수', '체육', '봉사활동', '참여', '대학생', '통합체육', '인식', '신체', '활동', '가치', '지도', '태도', '인과관계'], ['승마', '운동', '프로그램', '지적장애', '성인', '신체', '심리', '사회', '요인', '영향'], ['장애인스포츠', '주요', '관점', '가치', '논제', '고찰'], ['특수', '체육', '혼합', '방법론', '사례', '향후', '발전', '탐색'], ['특수', '체육', '방법론', '가능성', '탐색'], ['장애인올림픽', '대회', '신문', '보도', '경향', '중심'], ['장애인스포츠', '타이틀', '스폰서', '호도', '기업', '이미지', '브랜드', '충성', '사회', '책임', '영향'], ['장애인', '엘리트', '체육', '종목', '전문', '체력', '특이'], ['특수', '체육', '전공', '대학생', '장애', '아동', '체육', '활동', '지도', '경험'], ['척수', '장애인', '스쿠버', '다이빙', '과정', '고찰', '단일'], ['복합', '훈련', '훈련', '중지', '지적장애', '염증', '인자', '영향'], ['배구', '프로그램', '참여', '여성', '지체', '장애인', '신체조', '성과', '혈중', '지질', '심리', '웰빙', '영향'], ['장애인', '일상생활', '만족', '신체', '활동', '참여', '정도', '사이', '자기', '회귀', '교차', '지연', '효과'], ['발달장애', '신체', '활동', '프로그램', '유형', '효과', '메타분석'], ['지적', '자폐', '장애', '학생', '운동', '수행', '평가', '도구', '표준화'], ['지적장애', '아동', '운동', '발달', '검사', '특수', '체육', '전문가', '상대', '중요도', '인식'], ['재활', '운동', '파킨슨', '질환', '장애인', '기능', '체력', '인지', '기능', '영향'], ['지적장애', '혈중', '소변', '내의', '변화', '추이'], ['운동', '지적장애', '작업기억', '의존', '걷기', '정확성', '영향'], ['휠체어', '트레드밀', '최대운', '동부', '검사', '운동', '부하', '생리', '반응', '비교'], ['특수', '체육', '문헌', '계량'], ['수업', '경기도', '특수', '학교', '체육', '프로그램', '운영', '현황', '활성화', '방안'], ['장애', '학생', '부모', '경험', '소비', '경험', '특성', '만족도', '참여', '의도'], ['장애인체육', '지도자', '자질', '측정', '도구', '개발', '당화'], ['시각장애인', '건강', '체력', '규준', '설정'], ['장애인', '운동', '참여', '생태학', '변인', '측정', '도구', '개발'], ['통합체육', '수업', '교수', '수정', '중재', '장애', '학생', '행동', '수업', '참여', '행동', '신체', '활동', '효과'], ['감각', '운동', '통합', '프로그램', '뇌성마비', '아동', '운동', '제어', '영향'], ['스노보드', '훈련', '지적장애', '학생', '평형', '성과', '민첩성', '영향'], ['유산소운동', '체형', '분류', '비만', '지적장애', '학생', '혈액', '분과', '건강', '체력', '변화', '영향'], ['특수', '체육', '전공자', '윤리', '민감', '영향', '요인'], ['특수', '학급', '학생', '여가', '활동', '실태'], ['지체', '장애인', '배구', '참여', '여부', '사회', '발달', '영향'], ['예비', '특수', '체육교사', '모의', '체육', '수업', '신체', '활동', '수준', '수업', '내용', '수업', '행동'], ['장애인', '국가대표', '선수', '운동', '상해', '유형'], ['비만', '분류', '지적장애', '학생', '유산소운동', '운동', '신체형', '태변', '영향'], ['오스카', '피스토리우스', '장애인스포츠', '참여', '논쟁', '텍스트'], ['음악', '줄넘기', '운동', '정신장애', '여성', '신체', '구성', '근력', '밀도', '영향'], ['특수', '체육교사', '교직', '생활', '내러티브'], ['보행', '시스템', '이용', '다운증후군', '아동', '보행', '특성'], ['성공', '통합체육', '구성요소', '순위'], ['장애인', '뉴스', '포츠', '프로그램', '참여', '저해', '인과', '활성화', '종목', '개발자', '견해'], ['성별', '지적장애', '아동', '프로그램', '학생', '건강', '체력', '자기', '결정', '효과'], ['학급', '차원', '긍정', '행동', '지원이', '통합체육', '수업', '장애', '학생', '수업', '행동', '교사', '상호작용', '신체', '활동', '효과'], ['재적', '루틴', '보치아', '선수', '초구', '던지기', '수행', '능력', '향상', '효과'], ['한국', '미국', '특수', '체육', '동향', '비교', '중심'], ['장애인스포츠', '영상', '매체', '체육', '수업', '중학생', '장애인', '태도', '영향'], ['운동', '기능', '중심', '특수', '체육', '활동', '발달장애', '유아', '운동', '기술', '영향', '운동', '발달', '단계', '특성'], ['자아', '인지', '연습', '맥락', '간섭', '효과', '발달', '협응력', '장애', '운동', '기술', '학습', '영향'], ['장애인', '스포츠', '참가자', '기본', '심리', '욕구', '스포츠', '참여', '동기', '운동', '지속', '의도'], ['휠체어', '이용자', '예측', '휠체어', '셔틀', '테스트', '타당성'], ['저항', '운동', '고령', '장애인', '일상생활', '체력', '심혈관계', '위험', '요인', '영향'], ['특수', '체육', '내러티브', '잠재', '기여'], ['승마', '뇌성마비', '아동', '평형', '척추', '자세', '영향'], ['스포츠', '참가', '척수', '장애인', '사회', '지지', '장애', '용감', '영향'], ['장애', '아동', '청소년', '심폐', '체력', '장애', '유형', '다중', '비교'], ['장애', '청소년', '피지', '리터', '러시', '개념', '탐색'], ['특수', '학교', '운동', '부지', '자의', '운동', '운영', '과정', '경험', '근거', '이론', '접근'], ['장애인', '생활', '체육', '지도자', '장애인', '지도', '의도', '행동', '계획', '행동', '이론', '중심'], ['인지', '기능', '장애인', '보행', '국내', '운동', '역학', '동향'], ['신체', '활동', '중재', '프로그램', '노인', '우울증', '영향', '이후', '메타분석'], ['재활', '운동', '체육', '프로그램', '성인', '중증', '뇌성마비', '자세', '정렬', '상체', '유연성', '호흡', '기능', '영향'], ['장애', '노인', '재활', '운동', '프로그램', '비교', '한국', '미국', '일본', '사례', '중심'], ['게임', '스마트', '기기', '심리', '운동', '자폐', '범주', '아동', '수업', '참여', '행동', '영향'], ['장애', '학생', '상호', '협력', '행동', '장애', '학생', '신념', '측정', '도구', '개발'], ['지적장애', '아동', '인지', '능력', '적응', '행동', '발달', '운동', '숙련', '운동', '발달'], ['지역', '사회', '장애인', '체육', '스포츠', '거버넌스', '발전', '방안', '학교', '체육', '생활', '체육', '중심'], ['생활', '체육', '참여', '장애인', '건강', '상태', '지각', '건강', '증진', '행동', '질의'], ['지적장애', '학생', '신체', '활동', '수준', '비만', '폐지', '구력', '영향'], ['장애인체육', '행정', '조직', '구성원', '직무', '스트레스', '조직', '유효', '영향'], ['특수', '체육', '질적연구', '패러다임', '기여', '한계'], ['통합체육', '수업', '특수', '학급', '체육', '수업', '시간', '지적장애', '학생', '신체', '활동', '수준', '비교'], ['지적장애', '남자', '아동', '신체', '활동'], ['장애인스포츠', '실업팀', '활성화', '제도', '개선', '방안'], ['특수교육', '학생', '체력', '증진', '학생', '건강', '체력', '평가', '시스템'], ['장애', '학생', '건강', '체력', '검사', '도구', '동시', '타당도'], ['지적장애', '학생', '건강', '체력', '측정', '평가', '준치', '설정'], ['경도', '발달장애', '청소년', '태권도', '프로그램', '개발', '효과'], ['휠체어', '트레드밀', '운동', '심박수', '이용', '에너지', '비량', '추정'], ['플라이', '오메', '트릭', '훈련', '고등학교', '정신지체', '축구선수', '관절', '등속', '근력', '영향'], ['학교', '일과', '지적장애', '학생', '장애', '학생', '신체', '활동', '수준', '비교'], ['목표', '근접', '설정', '정신지체', '학생', '운동', '수행', '영향'], ['체육', '수업', '게임', '놀이', '프로그램', '정신지체', '학생', '사회', '기술', '장애', '학생', '또래', '수용', '효과'], ['장애인체육', '행정', '전달', '체계', '개선', '방안', '지부', '설립', '중심'], ['지적장애', '운동', '수행', '프로파일', '당화'], ['장애인', '운동선수', '기본', '심리', '욕구', '운동', '수행', '인과관계', '배경', '변인', '조절', '효과'], ['당뇨병', '척수', '장애인', '복부', '지방', '아디', '사이토카인', '대사', '증후군', '위험', '인자', '비교'], ['특수', '체육', '지도자', '스페셜올림픽', '참여', '경험', '교육', '신념'], ['지적장애', '작업기억', '용량', '집행', '기능', '부하', '목표', '지향', '이동', '수행', '영향'], ['방과', '배드민턴', '활동', '참여', '지적장애', '청소년', '혈액', '성분', '백혈구', '효과'], ['농구', '운동', '프로그램', '과체중', '지적장애', '학생', '신체조', '대사', '증후군', '위험', '요인', '체력', '영향'], ['복합', '재활', '운동', '뇌졸중', '마비', '장애인', '역학', '변인', '기능', '체력', '등속', '관절', '기능', '영향'], ['지적장애', '특수', '학교', '체육', '수업', '체감', '비디오', '테니스', '게임', '실행'], ['성적', '사고', '교육', '예비', '특수', '체육교사', '성적', '사고', '수준', '교수', '행동', '변화', '영향'], ['생애', '지적장애', '신체', '활동', '이해'], ['정상화', '원리', '일반', '학교', '통합체육', '문화', '문제', '장애', '학생', '실존', '탐색'], ['장애인스포츠', '타이틀', '스폰서', '기업', '이미지', '브랜드', '태도', '의도', '영향'], ['지체', '장애인', '인구', '사회학', '특성', '체육', '활동', '참여', '정도', '질의', '예측', '모형'], ['근력', '강화', '운동', '마비', '장애인', '균형', '일상생활', '동작', '효과'], ['남성', '척수', '장애인', '건강', '체력', '평가', '기준', '개발'], ['특수', '체육', '지도자', '양성', '특수', '체육', '교육', '학생', '전공', '교과', '과정', '만족도', '개선', '방안'], ['기분장애', '무릎', '걷기', '동작', '운동', '역학', '장애인', '무용', '교육', '한국', '무용', '가능성', '탐색'], ['통합체육', '수업', '참가', '장애', '대학생', '부정', '지각', '대처', '방식'], ['활동', '관찰', '지적장애', '중학생', '골프', '영향'], ['장애인', '직장', '체육', '활동', '사회', '심리학', '생리학', '요인', '효과'], ['지적장애', '스포츠', '대회', '참가', '경험', '사회', '정서', '발달'], ['신체', '활동', '척수', '장애인', '비만', '평가'], ['장애인체육', '행정', '조직', '구성원', '정서', '역량', '조직', '효과', '성의'], ['전문', '장애인', '선수', '지원', '서비스', '요구', '조사', '도구', '개발', '당화'], ['여성', '척수', '장애', '선수', '스포츠', '적응', '과정', '이해'], ['대퇴골', '분리', '수술', '재활', '운동', '관절', '기능', '고유', '수용성', '능력', '통증', '척도', '영향'], ['체육', '시설', '장애인', '쿼터'], ['전국', '장애인체육', '대회', '운영', '개선'], ['성인', '지적장애', '신체', '활동', '지원', '체계', '척도', '개발'], ['코로나', '장애인체육', '회의', '비대', '수업', '현장', '반응', '탐색', '정책', '제안'], ['심리', '운동', '사가', '발달', '재활', '서비스', '기관', '체험', '어려움', '고찰'], ['성인', '자폐', '장애', '자녀', '신체', '활동', '보호자', '현상학', '인식', '탐색'], ['다비', '체육', '센터', '운영', '지원', '방안'], ['장애인', '국가대표', '태권도', '선수', '경기', '향상', '지원', '체계', '현황'], ['국내', '통합체육', '동향', '텍스트', '이닝'], ['예비', '경력', '체육교사', '통합체육', '교수', '내용', '지식', '개념', '비교'], ['장애인체육', '지원', '법률', '제정', '필요', '방향'], ['재활', '운동', '체육', '개념', '이해관계자', '인식', '차이'], ['유니버설', '디자인', '수영장', '시설', '가이드라인', '개발'], ['한국', '미국', '특수', '체육', '동향', '비교', '중심'], ['휠체어', '탁구선수', '유니폼', '개발', '동작', '체표', '변화'], ['국내', '장애인', '선수', '은퇴', '동향'], ['장애인스포츠', '폭력', '측정', '도구', '개발', '당화'], ['병변', '장애인', '건강', '관심', '주관', '건강', '수준', '영향', '건강', '행동', '매개', '효과'], ['생활', '체육', '참여', '장애인', '운동', '몰입', '운동', '만족', '사회', '성의', '자기', '결정성', '이론'], ['장애인', '생활', '체육', '운동', '효과', '영향', '요인', '전국', '장애인', '생활', '체육', '참여', '실태', '조사', '이용', '위계', '회귀분석'], ['체육', '시설', '장애인', '이용권', '리보', '방안', '사용', '배려', '공간', '지정', '중심'], ['장애물', '장애인스포츠', '환경', '인증', '기준', '타당성', '조사'], ['장애인', '운동', '참여', '이양', '기적', '차원', '영향력', '잠재', '이모'], ['뇌졸중', '장애인', '산소', '신체', '활동', '실천', '여부', '주관', '건강', '상태', '건강', '영향'], ['보완', '대체', '의사소통', '기구', '심리', '운동', '자폐', '아동', '사회', '상호작용', '영향'], ['다운증후군', '아동', '발목', '근력', '유연성', '향상', '운동', '프로그램', '참여', '보행', '패턴', '균형', '능력', '영향'], ['청각장애', '건강', '신념', '계획', '행동', '건강', '증진', '행동', '영향'], ['혁신', '저항', '모델', '가상현실', '스포츠', '참여', '지체', '장애인', '수용', '의도'], ['승패', '요인', '데이터마이닝', '의사결정', '나무'], ['모형', '프리', '젠티즘', '척도', '타당도', '증거', '장애인스포츠', '지도자', '생활', '스포츠', '지도자', '비교'], ['뇌성마비', '장애인', '프린팅', '맞춤', '인솔', '착용', '보행', '경험', '사용자', '참여', '디자인', '중심'], ['장애', '학생', '스포츠클럽', '수업', '장애', '학생', '상호', '협력', '행동', '윤리', '민감', '공동체', '의식', '영향'], ['여성', '장애인', '체육', '활동', '경험', '인권', '인식', '질적', '사례'], ['예비', '특수', '체육', '교사', '창의', '서번트', '리더십', '프로그램', '효과'], ['대학', '발달장애', '고등교육', '특수', '체육', '가치', '탐색', '사례'], ['발달장애', '아동', '청소년', '신체', '활동', '촉진', '부모', '지원', '이해'], ['발달', '재활', '서비스', '특수', '체육', '가치', '가능성', '성인기', '자폐', '자녀', '어머니', '경험', '이야기'], ['장애인스포츠', '강좌', '이용권', '사업', '개선', '방안'], ['베이징', '동계', '패럴림픽', '대비', '평창동', '패럴림픽', '성과', '과제'], ['스페셜올림픽', '유산', '정책']]\n"
          ]
        }
      ]
    },
    {
      "cell_type": "code",
      "source": [
        "#[코드 1-12] 복합명사 정규화 코드\n",
        "import gensim\n",
        "\n",
        "bigram = gensim.models.Phrases(texts_ko, min_count=5)  #최소카운트 설정\n",
        "bigram_mod = gensim.models.phrases.Phraser(bigram)\n",
        "compound_noun = [bigram_mod[text] for text in texts_ko]\n",
        "compound_noun = [[word.replace('_', '') for word in row] for row in compound_noun]\n",
        "print(compound_noun)"
      ],
      "metadata": {
        "colab": {
          "base_uri": "https://localhost:8080/"
        },
        "id": "INxQppumgIYr",
        "outputId": "d8a9e62b-d942-43a4-f332-e756468bd0bd"
      },
      "execution_count": 8,
      "outputs": [
        {
          "output_type": "stream",
          "name": "stdout",
          "text": [
            "[['발달성협응장애', '중학생', '운동', '제어', '특성', '예비'], ['장애', '성인', '운동', '참여', '주관', '건강', '중매', '건강', '영향'], ['특수체육', '기관', '선택', '성과', '학부모', '만족도', '행동', '의도', '인과관계', '장애', '자녀', '학부모'], ['수정', '장애인', '생활체육', '체육', '지원', '사업', '개선방안'], ['장애인체육', '시설', '유니버설', '디자인'], ['코로나', '지체장애인', '볼링', '호인', '경기', '영상', '청동기', '스포츠', '태도', '스포츠', '가치관', '영향'], ['모델', '이용', '장애인', '전용', '체육', '시설', '서비스', '품질', '성과', '고객', '만족', '계수', '지수'], ['생활체육', '지체', '장애', '론볼', '동호', '지각', '지도자', '비언', '커뮤니케이션', '유지', '운동수행', '만족'], ['토픽', '모델링', '연결', '지적장애', '특수체육', '동향'], ['장애인', '생활체육', '지도자', '감정노동', '직무', '스트레스', '아웃'], ['장애학생', '체육', '활동', '활성화', '특수교육', '장애인체육', '방안'], ['장애인', '여가', '스포츠', '시설', '접근성', '한국미국', '여가', '스포츠', '시설', '법률', '비교'], ['지적장애', '사회', '기술', '향상', '신체활동', '신체활동', '중재', '효과', '크기', '차이', '국내', '중심'], ['장애', '노인', '운동', '참여', '영향', '요인', '탐색', '고령화', '장애인', '노화', '장애인', '비교'], ['장애인스포츠', '선수', '경기', '향상', '체계', '문헌', '고찰'], ['아동', '부모', '아동', '부모', '정신', '신체', '건강', '문제', '차이', '신체활동', '연관', '미국', '데이터', '중심'], ['특수체육', '지도자', '보완', '대체', '의사소통', '현장', '방안'], ['장애인', '생활체육', '지도자', '코칭', '행동', '구성', '요인'], ['유니버설', '디자인', '원리', '장애인체육', '시설', '프로그램', '평가', '지표', '개발'], ['산소', '운동', '혈관', '질환', '위험', '남성', '노인', '운동', '능력', '효과'], ['특수체육', '프린팅', '기술', '가능성탐색', '실제'], ['통합체육', '자폐', '장애학생', '문제', '행동', '감소', '행동수정', '자문', '모델', '예비'], ['장애인', '생활체육', '실태', '조사', '생활체육', '개념', '정의', '재정', '필요성'], ['체육', '활동', '참여', '정도', '장애', '용의', '종단', '상호', '인과관계', '지체', '청각', '시각장애', '중심'], ['장애인스포츠지도자', '장애인스포츠', '인식', '잠재', '프로파일', '분류', '교육', '자질', '차이'], ['노인', '스포츠', '스태킹', '참가', '재미', '여가', '몰입', '심리', '행복감'], ['뇌손상', '환자', '사회', '지지', '운동', '행동', '실천', '건강증진', '영향'], ['필라테스', '프로그램', '노인', '체력', '균형감각', '낙상', '지수', '영향'], ['중증', '병변', '장애학생', '기능', '체력', '향상', '운동', '프로그램', '효과'], ['피드백', '호흡', '운동', '어지럼증', '노인환', '호흡', '기능', '호흡', '성도', '영향'], ['장애인체육', '정책', '딜레마', '종목', '시도', '경기', '단체', '행정', '조직', '서비스', '행정', '전달', '체계', '개선방안', '탐색'], ['예비', '장애인스포츠지도자', '임파워먼트', '직무', '만족', '영향'], ['장애인스포츠지도자', '자존감', '자기', '관리', '교육', '자질'], ['장애', '청소년', '모험', '체육', '수업'], ['지체', '장애', '청소년', '운동', '참여', '자아존중감', '사회', '적응', '행복감', '비교'], ['중증', '장애인운동', '프로그램', '참가자', '경험'], ['장애인', '생활체육', '지도자', '셀프', '리더십', '회복', '탄력성'], ['장애학생', '통합체육수업', '참여', '장애인', '변화', '교우', '영향'], ['청각장애', '운동', '만족', '건강', '신념', '구조'], ['척수', '장애', '선수', '운동', '경구', '부하', '검사', '인슐린', '반응', '개선', '효과'], ['전국', '기초지방자치단체', '장애인', '체육', '진흥', '조례', '결정', '요인', '경제', '사회', '지리', '요인', '중심'], ['장애인', '재활', '운동', '체육', '지도자', '양성', '교육과정', '개발'], ['장애인스포츠', '실업팀', '고용', '현실', '운영', '특성'], ['중증', '병변', '장애인', '기능', '체력', '향상', '운동', '프로그램', '구성', '요인', '중요도', '라반', '포트', '이론', '중심'], ['청각장애', '계획', '행동', '운동', '지속', '의도', '건강증진', '행동'], ['노인', '장기간', '사회', '서비스', '신체활동', '프로그램', '신체조', '성과', '신체', '기능', '폐지', '구력', '효과'], ['훈련', '아동', '운동', '타이밍', '운동수행', '행동', '증상', '영향'], ['휠체어', '농구', '선수', '셔틀런', '이용', '최고', '산소', '섭취', '추정', '개발'], ['특수체육', '복합', '학문', '가능성'], ['국내', '장애인스포츠', '동향'], ['장애인', '체육', '활동', '차별', '실태', '장애인', '차별금지법', '실효', '강화'], ['장애인스포츠', '레저', '학교', '설치', '운영', '방안'], ['장애인스포츠', '경기', '향상', '수요', '중심', '지원', '모델', '제안'], ['장애인', '체육', '영재', '발굴', '기초', '매트릭스'], ['시각장애', '노인', '체력', '증진', '신체활동'], ['신체활동', '참여', '가능성탐색'], ['장애인', '스포츠', '발전방안'], ['창작', '무용', '노인', '지체장애인', '신체', '수행', '균형', '이동성', '영향'], ['지체장애인', '라이프스타일', '건강증진', '행동', '스포츠', '태도', '매개효과'], ['자기', '결정성', '이론', '근거', '심리', '욕구', '도구', '타당성', '뇌손상', '환자', '중심'], ['대중', '장애인스포츠', '인식', '수준', '장애인스포츠', '홍보', '이벤트', '수용', '관련성', '중심'], ['특수체육', '전공', '학생', '장애', '아동', '서비스', '러닝', '경험'], ['예비특수', '체육교사', '교사', '창의', '역량', '중요도', '실행', '인식'], ['심리', '운동', '자폐', '장애', '아동', '수업', '참여', '행동', '영향'], ['심리', '운동', '활성화', '요인', '상대', '중요도', '순위'], ['특수체육', '전통', '질적연구', '실천'], ['장애인체육', '자원', '봉사활동', '참여', '동기', '자아', '효능', '진로', '성숙', '구조'], ['생애', '주기', '장애', '정도', '장애인', '생활체육', '활성화', '방안'], ['평창', '동계올림픽', '평창', '동계', '패럴림픽', '기간', '소셜', '미디어', '관심', '차이'], ['운동', '중재', '뇌성마비아동', '보행', '능력', '효과', '메타분석'], ['거울', '시각', '피드백', '이용', '매트', '필라테스', '운동', '만성', '뇌졸중', '환자', '균형', '영향'], ['장애인', '생활체육', '지도자', '스트레스', '처방', '직무', '매너리즘'], ['발달성협응장애', '중학생', '장애', '중학생', '인지', '하량', '정보처리', '속도', '비교'], ['지체장애인', '장애인', '복지관', '신체활동', '프로그램', '참여', '성감', '상실'], ['예비특수', '체육', '교사', '서번트', '리더십', '인식'], ['동화', '심리', '운동', '프로그램', '발달장애', '유아', '주의력', '영향'], ['감각', '자극', '심리', '운동', '지적장애아동', '뇌파', '변화', '영향'], ['질적연구', '공부', '과정'], ['척수', '장애', '운동선수', '휠체어', '럭비', '입문', '적응', '과정', '탐색'], ['장애', '노인', '운동', '재활', '가상현실', '기술'], ['장애인', '운동선수', '은퇴', '경험', '은퇴', '개념'], ['통합', '수영', '장애학생', '태도', '유형'], ['생활체육', '참여', '실태', '조사', '비교', '운동', '비참', '장애인', '체육', '활동', '참여', '활성화', '방안'], ['장애물', '트레드밀', '보행', '훈련', '마비', '노인', '환자', '시간', '공간', '보행', '요인', '영향'], ['장애인', '차별', '경험', '잠재', '집단', '분류', '정신건강', '건강', '행동', '차이'], ['특수체육', '지도자', '양성', '과정', '진로'], ['한국', '특수체육', '서비스', '전달', '체계'], ['산업혁명', '노인', '체육', '가상현실', '중심'], ['장애인', '생활체육', '활성화', '초등학교', '수영장', '시설', '방안'], ['플로', '프로그램', '지적장애학생', '운동수행', '능력', '심박', '이도', '영향'], ['트램펄린', '신체활동', '프로그램', '지적장애아동', '협응력', '영향'], ['운동', '재활', '프로그램', '참여', '장애', '노인', '영향'], ['지체장애인', '체육', '활동', '참여', '생활', '만족', '인과', '모형', '건강', '만족', '여가', '만족', '장애', '용의', '다중', '매개효과'], ['장애인', '차별', '경험', '질의', '경로', '모형', '스트레스', '자립생활', '신체활동', '매개효과'], ['통합', '모델', '지체장애인', '생활체육', '참여', '의도', '이해'], ['골볼', '시각장애인', '생활체육', '발전', '공헌', '지도자', '순의', '구술', '생애'], ['장애인', '생활체육', '지도자', '핵심', '역량', '질문지', '개발', '당화'], ['장애', '아동', '청소년', '운동', '응력', '중재', '프로그램', '효과', '메타'], ['소도구', '운동', '프로그램', '노인', '신체조', '일상생활', '체력', '건강', '영향'], ['노인', '건강증진', '행위', '운동', '지속', '보상', '매개효과'], ['휠체어', '농구', '선수', '자유투', '시도', '기능', '등급', '여부', '탐색', '차이'], ['지체장애인', '가족', '스키', '프로그램', '실행'], ['회문', '예술', '교육', '장애인', '무용', '가치', '인식'], ['재활', '운동', '체육', '프로그램', '유형', '뇌성마비아동', '동작', '운동', '기능', '균형', '효과', '무작위', '메타분석'], ['지체', '장애', '노인', '신체활동', '요구', '유형', '특성', '주관성', '탐구', '자기', '결정성', '이론', '중심'], ['평창동', '패럴림픽', '레거시', '결산', '고찰'], ['평창동', '패럴림픽', '대회', '핵심', '목표', '레거시', '정책'], ['장애인', '스포츠', '차별', '구별', '담론'], ['통합체육', '교사', '지도', '능력', '예비', '체육교사', '인식', '유형', '중심'], ['장애인', '크로스컨트리', '스키', '경기', '남자', '선수', '스키', '동작', '운동학', '요인', '평가'], ['장애인', '크로스컨트리', '스키', '경기', '코스', '형태', '구간', '더블', '폴링', '동작', '운동학', '특성'], ['중강', '신체활동', '참여', '노인', '생태학', '요인'], ['고혈압', '체질량지수', '분류', '노인', '체력', '수준', '차이'], ['지체장애인', '운동', '참여', '잠재', '프로파일', '분류', '심리', '안녕', '현실', '용도'], ['생활체육', '참여', '지체장애인', '기본', '심리', '욕구', '운동', '만족', '사회', '행동'], ['장애인스포츠지도자', '현실', '자격증', '취득', '변화', '중심'], ['장애인', '활동', '서비스', '특수체육', '방안', '탐색'], ['텍스트', '이닝', '기법', '패럴림픽', '해외', '동향'], ['통합체육수업', '참여', '지적장애아동', '기능', '지수', '영향'], ['한국', '스포츠', '발전', '자의', '구술', '생애', '휠체어', '탁구', '론볼', '선구자', '송신'], ['수중', '운동', '병행', '전정', '재활', '운동', '어지럼증', '노인환', '호흡', '능력', '균형능력', '어지럼증', '영향'], ['골볼', '경기', '공격', '형태', '경기'], ['장애인스포츠지도자', '고용', '불안', '아웃', '증후군', '영향'], ['휠체어', '스포츠', '경기', '관람객', '지체', '장애인스포츠', '이미지', '장애', '태도', '영향'], ['변형', '골프', '프로그램', '지적장애학생', '지각', '주의', '집중', '영향'], ['뉴스', '포츠', '프로그램', '중심', '통합', '체육', '교실', '운영', '정서', '행동', '장애', '청소년', '문제', '행동', '사회', '기술', '영향'], ['태권도', '품새', '수련', '지체', '장애', '노인', '인지', '능력', '영향'], ['플로', '프로그램', '지적장애학생', '건강체력', '주의', '집중', '영향'], ['배구', '선수', '필드', '체력', '향상', '체력', '훈련', '프로그램', '효과'], ['배구', '선수', '필드', '체력', '기술', '향상', '체력', '훈련', '프로그램', '효과'], ['심리', '운동', '중재', '체육', '교육과정'], ['지체장애인', '생활체육', '참여', '심리', '행복감', '회복', '탄력성'], ['지체', '장애', '선수', '스포츠', '활동', '참여', '수준', '운동', '정이', '사회', '지지', '자기효능감', '영향'], ['특수체육', '강의', '예비', '체육', '지도자', '통합체육', '인식', '태도', '판단', '변화'], ['특수체육', '빅데이터', '가능성탐색'], ['기대', '가치', '모델', '장애인', '엘리트', '선수', '운동', '정체', '성과', '성취', '행동', '구조', '지원', '체계', '수준', '조절', '효과'], ['장애인', '댄스', '스포츠', '선수', '경기', '참여', '경쟁상태', '불안', '특성', '불안'], ['장애', '아동', '발달', '재활', '서비스', '로서', '심리', '운동', '현황', '발전방안'], ['장애인', '심리', '운동', '국내', '실험', '고찰'], ['예비특수', '체육교사', '예비', '체육교사', '윤리', '민감', '가치', '정향', '비교'], ['통합체육수업', '경험', '장애', '청소년', '장애', '수용', '태도', '변화', '효과', '메타분석'], ['농촌', '노인', '신체', '수행', '근력', '균형능력', '향상', '창작', '무용', '프로그램', '개발', '효과'], ['평창동', '패럴림픽', '동계', '패럴림픽', '유산'], ['국내', '장애인', '생활체육', '현황', '시사', '모색', '한국', '영국', '미국', '일본', '사례', '중심'], ['지적장애', '청소년', '운동수행', '타이밍', '능력', '영향'], ['장애학생', '도전', '행동', '예비', '체육교사', '감정', '반응'], ['대학생', '평창동', '패럴림픽', '브랜드', '지식', '브랜드', '태도', '방문', '의사', '인과관계'], ['발달', '재활', '서비스', '로서', '특수체육', '서비스', '이용', '부모', '지각', '서비스', '만족도', '이용', '의사'], ['장애', '아동', '발달', '재활', '서비스', '로서', '심리', '운동', '전문성', '효과', '탐색'], ['특수', '아동', '부모', '심리', '운동', '프로그램', '선택', '속성', '순위'], ['발달장애', '아동', '부모', '심리', '운동', '프로그램', '선택', '속성', '순위'], ['지체장애인', '성감', '자신감', '운동수행', '모형'], ['기술', '기용', '휠체어', '개발', '과정'], ['장애인스포츠', '승부조작', '고찰'], ['지체', '장애', '엘리트', '선수', '지각', '코칭', '지식', '적합', '성과', '현실', '용도'], ['지적장애아동', '운동', '능력', '주의', '집중', '또래', '상호작용', '향상', '커뮤니티', '댄스', '프로그램', '개발'], ['직장', '장애인', '건강체력', '관리', '어려움'], ['장애인스포츠지도자', '자격증', '취득', '동기', '직업', '가치관', '직업', '선택'], ['장애인', '재활', '발달', '지원', '심리', '운동', '프로그램', '구성', '요인', '상대', '중요도', '탐색'], ['예비', '체육교사', '통합체육', '자기효능감', '검사', '도구', '당화'], ['직류', '기자', '노인', '평형', '수행'], ['연산', '교육', '프로그램', '지적장애', '과제', '처리', '속도', '주의', '집중', '영향'], ['발달', '재활', '서비스', '로서', '특수체육'], ['인권', '패러다임', '관점', '장애인', '체육', '활동', '모형'], ['다문화', '사회', '대비', '특수체육', '보조', '교사', '역할', '책임'], ['자폐', '장애인', '사회', '스포츠', '동호회'], ['특수체육교사', '통합', '스포츠', '동아리', '운영', '경험', '탐색'], ['특수교육', '기본', '교육과정', '초등학교', '체육', '수업', '목표', '개정', '교육', '목표', '분류학', '중심'], ['미디어', '교육', '체육', '수업', '초등학생', '장애인스포츠', '인식', '장애인', '수용', '태도', '효과'], ['지식', '네트워크', '특수체육', '동향'], ['장애인스포츠', '브랜드', '아이덴티티', '포지셔닝', '마케팅', '믹스', '개발'], ['여성', '노인', '당뇨병', '환자', '심폐', '체력', '평가', '타당성'], ['코어', '운동', '참여', '지적장애학생', '자세', '건강체력', '영향'], ['특수', '교사', '체육', '수업', '인식', '방해', '요인'], ['예비', '장애인스포츠지도자', '윤리', '민감', '성과', '직업', '윤리', '의식'], ['장기간', '태극권', '운동', '고혈압', '노인', '혈압', '심박수', '혈중', '지질', '영향'], ['장애인', '체육', '활동', '태도', '요인', '탐색', '지체장애인', '중심'], ['발달장애', '학생', '신체활동', '지도', '예비특수', '체육교사', '경험', '사이클', '프로그램', '사례'], ['지체장애인', '건강증진', '동기', '모형', '단계', '사전', '진단', '도구', '중심'], ['노인', '인지', '기능', '운동', '기술', '관련성'], ['심리', '운동', '신체활동', '지적장애아동', '운동수행', '능력', '영향'], ['스포츠', '참여', '현실', '극복', '장애인', '골볼', '학생', '선수', '참여', '경험'], ['국가대표', '척수', '손상', '선수', '손상', '수준', '참여', '운동', '종목', '심폐', '능력', '주관절', '근력', '비교'], ['휠체어', '육상', '선수', '체력', '트레이닝', '프로그램', '모형', '개발'], ['반복', '기자', '성인', '노인', '자동화', '운동수행', '변화'], ['배드민턴', '참여', '지체장애인', '사회', '체형', '불안', '자아', '탄력성'], ['특수체육', '증강현실', '효과', '방향성', '제안'], ['장애인체육', '종합', '훈련', '시설', '개선', '요인', '상대', '중요도'], ['장애', '노인', '신체활동', '참여', '제약', '요인', '탐색'], ['장애인', '여가', '스포츠', '활동', '저해', '요인', '설문지', '개발'], ['통합체육', '체육교사', '태도', '문헌'], ['안정화', '운동', '노인', '기능', '체력', '평형'], ['한국미국', '특수체육', '동향', '비교', '중심'], ['장애인', '엘리트', '사격', '선수', '지각', '제약', '요인'], ['척수', '장애인', '비장', '애인', '최대', '운동', '검사', '최대', '생리', '반응', '비교'], ['대중', '지각', '평창', '동계', '패럴림픽', '인식', '브랜드', '방안'], ['장애인', '건강', '운동', '관리사', '필요성', '발전방안'], ['노년', '재활', '운동', '참여', '제약', '요인', '구성'], ['재활승마', '프로그램', '지적장애', '균형능력', '뇌파', '영향'], ['특수체육교사', '역도', '선수', '과정', '내러티브'], ['극성', '장애인', '운동', '영양', '교육', '참여', '효과', '체계', '문헌', '고찰'], ['장애인스포츠지도자', '직무', '환경', '직무', '스트레스', '프리젠티즘', '인과관계'], ['장애인', '은퇴', '선수', '실태', '조사', '지원', '방안'], ['장애인체육', '변화', '활성화', '방안', '문재인', '정부', '장애인체육', '사업', '중심'], ['보호', '시설', '활동', '서비스', '이용', '성인', '발달장애', '신체활동', '질의', '자기효능감', '매개효과'], ['확장', '계획', '행동', '이론', '장애인', '엘리트', '선수', '도핑', '의도'], ['장애인', '국가대표', '선수', '은퇴', '인식', '진로', '지원', '방향', '탐색'], ['기록', '시각장애인', '축구', '경기', '패럴림픽', '기록', '중심'], ['파크', '골프', '참여자', '파크', '골프장', '선택', '속성', '요인', '탐색'], ['장애인스포츠지도자', '양성', '생활체육', '학과', '교육과정', '교육', '제안'], ['장애', '노인', '신체활동', '활성화', '요인', '상대', '중요도', '평가', '지표', '개발'], ['장애인', '동계', '패럴림픽', '성공', '결실', '엘리트', '선수', '지원', '체계'], ['댄스', '스포츠', '참여', '청각장애', '신체', '구성', '심폐', '기능', '균형능력', '영향'], ['재활', '체육', '역할', '탐색', '장애인체육', '방안'], ['국가대표', '시각장애', '장애', '유도', '선수', '등속', '근력', '무산', '소성', '운동', '능력'], ['규칙', '수중', '운동', '성인', '지적장애', '건강체력', '효과'], ['번안', '신뢰'], ['재활승마', '뇌성마비아동', '평형', '영향'], ['스포츠', '경기', '무도', '체육', '교육', '로서', '장애인', '태권도', '수련', '의의'], ['발달장애', '지각', '운동', '능력', '요가', '프로그램', '효과'], ['비디오게임', '가상현실', '운동', '프로그램', '발달장애', '성인', '건강체력', '신체활동', '수준', '영향'], ['특수체육', '정상화', '특성'], ['스포츠', '활동', '참가', '장애인', '스포츠', '가치관', '사회', '자본', '영향'], ['대중', '지각', '장애인스포츠', '인식', '잠재', '프로파일', '분류', '생태학', '변인', '영향력'], ['집중', '치료', '중재', '뇌성마비아동', '기능', '독립성', '변화'], ['뉴스', '포츠', '활동', '지적장애학생', '신경근', '운동', '발달', '영향'], ['소뇌', '질환', '환자', '운동', '기능', '회복', '재활', '운동', '원리', '전략'], ['문화', '체육관', '광부', '체제', '장애인', '생활체육', '현실', '정책', '순위'], ['재활승마', '프로그램', '아동', '심리', '영향'], ['태극권', '운동', '소아', '청소년', '주의', '집중', '균형능력', '영향'], ['휠체어', '테니스', '선수', '성취', '목표', '성향', '시합', '경쟁', '상태', '불안', '영향'], ['장애인', '궁도', '협회', '발전방안', '경기', '협회', '운영', '접근'], ['특수', '학교', '운동', '실태', '활성화', '방안'], ['농아인', '체육', '연맹', '법인화', '방안'], ['장애인', '엘리트', '선수', '지각', '지원', '체계', '문제', '내용'], ['장애', '아동', '체육', '교실', '봉사활동', '참여', '장애학생', '장애인', '인식', '태도', '장애인', '신체활동', '탐색', '사례'], ['가상현실', '활동', '뇌성마비아동', '상지', '기능', '지각', '발달', '영향', '사례'], ['장애인스포츠', '세계', '화로', '전략', '접근'], ['지체', '장애', '탁구선수', '심리', '기술', '훈련', '경험', '현상학', '해석'], ['발달장애', '학생', '특수체육', '프로그램', '프로그램', '체력', '비교', '경험', '탐색'], ['런던', '패럴림픽', '대비', '사격', '국가대표', '심리', '기술', '훈련', '단일', '사례'], ['자기', '결정이론', '발달장애', '아동', '신체활동', '주관성', '탐색'], ['생태학', '사정', '교수', '적합', '화가', '중복', '장애학생', '체육', '수업', '참여', '행동', '영향'], ['장애인스포츠', '이미지', '측정', '도구개발'], ['장애인운동', '선수', '인권', '확립', '복지', '향상', '방안'], ['장애', '개념', '다중', '패러다임', '장애인스포츠', '인식', '척도', '개발'], ['복합', '운동', '정신분열증', '환자', '기초', '체력', '우울', '증상', '영향'], ['운동', '기능', '검사', '운동', '프로그램', '지적장애', '기능', '지수', '운동수행', '능력', '영향'], ['지적장애아동', '운동', '능력', '또래', '상호작용', '커뮤니티', '스키', '프로그램', '효과'], ['특수체육', '동향'], ['만성', '부전', '마비', '장애인', '심폐', '체력', '보행', '능력', '관련성'], ['특수체육', '교육', '학생', '학업', '자기효능감', '학업', '기대', '학과', '만족', '구조', '모형'], ['태권도', '수련', '지적장애', '등속', '기능', '기능', '지수', '변화'], ['레트', '증후군', '아동', '보행', '운동', '프로그램', '효과', '단일'], ['특수', '학교', '체육교사', '체육', '수업', '지도', '경험', '탐색'], ['작별', '난이도', '지적', '자폐', '장애학생', '운동수행', '능력'], ['장애인', '체육', '교실', '참여', '대학생', '자원봉사자', '참여', '동기', '역할', '갈등', '자긍심', '영향'], ['장애인스포츠', '실업팀', '고용', '기관', '협력', '방안'], ['장애인체육', '지도자', '자기효능감', '전문성', '직무', '만족도', '영향'], ['장애인', '재활', '체육', '딜레마', '생활체육'], ['승마', '운동', '발달장애', '아동', '체력', '신체', '부모', '만족도', '영향'], ['지체장애인', '스포츠', '참여', '정도', '라이프스타일', '생활', '만족도'], ['장애학생', '체육', '활동', '지도', '예비특수', '체육교사', '성적', '쓰기', '성적', '사고', '수준', '변화'], ['지체', '장애', '생활체육', '호인', '장애', '수용', '자아존중감', '행복감', '관련성'], ['보편', '학습', '설계', '중학교', '통합체육수업', '장애학생', '장애학생', '태도', '수업', '참여', '영향'], ['지적장애', '건강체력', '비만', '도의'], ['시각장애인', '여가', '제약', '여가', '동기', '여가', '만족', '영향'], ['중학교', '통합체육수업', '교수', '적합', '화가', '경도', '지체', '장애학생', '신체활동', '수준', '상호작용', '영향'], ['장애', '청소년', '배드민턴', '기능', '동작', '수행능력', '변화'], ['장애인', '신체활동', '지원', '심리', '운동', '사의', '직무'], ['비만', '지적장애학생', '수영', '참여', '신체조', '기능', '지수', '변화'], ['초발', '뇌졸중', '고령자', '탄성', '밴드', '운동', '중단', '보행', '체력', '보행', '능력', '영향'], ['휠체어', '농구', '선수', '에르', '미터', '운동', '부하', '검사', '운동', '속도', '생리', '반응', '비교'], ['지역', '사회', '장애인체육', '현황', '발전방안', '경상남도', '중심'], ['장애학생', '체육', '활동', '현황', '발전방안'], ['휠체어', '농구', '공격', '변인', '코칭', '전략', '향상', '방안'], ['오버헤드', '타격', '동작', '발달장애', '아동', '장애', '아동', '상지', '운동학', '변인', '비교'], ['태극권', '프로그램', '지적장애', '청소년', '신체', '구성', '건강체력', '영향'], ['휠체어', '농구', '선수', '공동체', '의식', '탐색'], ['성인', '지적장애', '인과', '일반인', '신체활동', '건강체력', '혈관', '질환', '위험', '요인', '비교'], ['장애인체육', '윤리문제', '해결', '방안', '윤리', '강령', '윤리', '교육', '고찰'], ['전통', '프로그램', '지적장애아동', '문화', '정체', '영향'], ['기법', '이용', '장애인스포츠지도자', '직무'], ['한국미국', '일본', '장애인체육', '법률'], ['커뮤니티', '댄스', '프로그램', '지적장애', '사회', '적응', '행동', '정서', '능력'], ['자연휴양림', '이용', '장애인스포츠', '발전방안'], ['자치구', '특수체육', '교실', '운영', '특성', '가치', '질적', '사례'], ['장애인', '생활환경', '운동', '행동', '변화', '과정'], ['런던', '파랄림픽', '대회', '참가', '한국', '선수', '훈련', '스포츠', '상해'], ['중저항', '운동', '지적장애아동', '뇌파', '혈중', '지질', '변화', '영향'], ['휠체어', '테니스', '선수', '수행', '수준', '선수', '경력', '신체', '자기', '개념', '참여', '동기'], ['지적장애', '성인', '신체활동', '건강체력', '신체조', '혈압', '혈당'], ['체육', '지도자', '자격', '제도', '개편', '장애인스포츠지도자', '양성', '가능성탐색'], ['특수체육', '수업', '예비특수', '체육교사', '인식'], ['런던', '패럴림픽', '대비', '탁구', '국가대표', '심리', '기술', '훈련', '단일', '사례'], ['장애인', '신체활동', '실무', '경험', '적응', '과정', '예비', '지도자', '인식', '변화'], ['초등학교', '특수', '학급', '특수', '교사', '장애학생', '체육', '활동', '도시', '딜레마', '사례', '근거', '이론', '중심'], ['텍스트', '이닝', '토픽', '모델링', '한국', '특수체육', '학회', '동향'], ['특수체육교사', '장애학생', '스포츠', '활동', '지도', '경험', '통합교육', '현장', '중심'], ['성인', '지적장애', '신체활동', '참여', '인과', '극복', '지원'], ['재활', '체육', '동향', '프로그램', '효과', '메타분석', '국내', '중심'], ['지체장애인', '운동', '가치', '건강', '신념', '운동', '지속', '인과관계', '건강증진', '행동', '조절', '효과', '혼합'], ['노인', '신체활동', '변화', '우울', '코로나', '영향', '중심'], ['생애', '탐구', '생애', '경험', '성찰'], ['지적장애아동', '국내', '운동', '중재', '동향'], ['뇌성마비', '장애인', '경험', '나이', '신체', '심리', '변화'], ['특수체육', '역할', '미래', '방향'], ['지체장애인', '심리', '안녕', '척도', '구성', '모형'], ['시각장애', '노인', '운동', '참여', '수준', '주관', '건강', '평가'], ['장애인', '전문', '체육', '선수', '코칭', '지식', '스포츠', '수행', '전략', '인지', '경기', '인과관계'], ['해외', '사례', '장애인체육', '선수', '육성', '제언', '독일', '영국', '중국', '사례', '중심'], ['산림', '공익', '가치', '공유', '실천', '제안', '장애인'], ['장애인체육', '스포츠', '보조공학', '융합', '제언'], ['신체활동', '가치', '애로', '사항', '설문지', '심리측정학', '특성'], ['휠체어컬링', '세계', '선수권대회', '참가', '휠체어컬링', '국가대표', '경기', '내용'], ['특수체육', '전공', '대학생', '스포츠', '가치관', '교직', '선택', '동기', '영향'], ['저항', '운동', '프로그램', '지적장애아동', '신체조', '성과', '혈중', '지질', '성장', '인자', '영향'], ['전통', '무예', '국궁', '교실', '참여', '지체', '청각장애', '정신건강', '회복', '탄력성', '영향'], ['웹사이트', '이용', '중재', '뇌성마비', '장애인', '스쿠버', '다이빙', '수행', '효과'], ['런던', '패럴림픽', '사진', '한국', '신문', '포토저널리즘'], ['장애인', '체육', '조직', '장애', '당사자', '참여', '구성원', '인식'], ['비정규직', '특수체육', '지도자', '직무', '스트레스', '조직', '몰입', '직무', '만족', '구조', '모형'], ['변화', '단계', '지체장애인', '신체활동', '참여', '제약', '요인'], ['체육', '전공', '대학생', '장애인', '사회', '거리', '척도', '요인', '구조', '탐색'], ['지적장애학생', '학교생활', '휴식시간', '점심시간', '신체활동', '신체활동', '내용'], ['지적장애아동', '슬링', '운동', '체력', '기능', '운동수행', '능력', '영향'], ['승마', '프로그램', '시각장애', '중년', '여성', '저압', '영향'], ['특수체육', '봉사활동', '참여', '대학생', '통합체육', '인식', '신체활동', '가치', '지도', '태도', '인과관계'], ['승마', '운동', '프로그램', '지적장애', '성인', '신체', '심리', '사회', '요인', '영향'], ['장애인스포츠', '주요', '관점', '가치', '논제', '고찰'], ['특수체육', '혼합', '방법론', '사례', '향후', '발전', '탐색'], ['특수체육', '방법론', '가능성탐색'], ['장애인올림픽', '대회', '신문', '보도', '경향', '중심'], ['장애인스포츠', '타이틀', '스폰서', '호도', '기업', '이미지', '브랜드', '충성', '사회', '책임', '영향'], ['장애인', '엘리트', '체육', '종목', '전문', '체력', '특이'], ['특수체육', '전공', '대학생', '장애', '아동', '체육', '활동', '지도', '경험'], ['척수', '장애인', '스쿠버', '다이빙', '과정', '고찰', '단일'], ['복합', '훈련', '훈련', '중지', '지적장애', '염증', '인자', '영향'], ['배구', '프로그램', '참여', '여성', '지체장애인', '신체조', '성과', '혈중', '지질', '심리', '웰빙', '영향'], ['장애인', '일상생활', '만족', '신체활동', '참여', '정도', '사이', '자기', '회귀', '교차', '지연', '효과'], ['발달장애', '신체활동', '프로그램', '유형', '효과', '메타분석'], ['지적', '자폐', '장애학생', '운동수행', '평가', '도구', '표준화'], ['지적장애아동', '운동', '발달', '검사', '특수체육', '전문가', '상대', '중요도', '인식'], ['재활', '운동', '파킨슨', '질환', '장애인', '기능', '체력', '인지', '기능', '영향'], ['지적장애', '혈중', '소변', '내의', '변화', '추이'], ['운동', '지적장애', '작업기억', '의존', '걷기', '정확성', '영향'], ['휠체어', '트레드밀', '최대운', '동부', '검사', '운동', '부하', '생리', '반응', '비교'], ['특수체육', '문헌', '계량'], ['수업', '경기도', '특수', '학교', '체육', '프로그램', '운영', '현황', '활성화', '방안'], ['장애학생', '부모', '경험', '소비', '경험', '특성', '만족도', '참여', '의도'], ['장애인체육', '지도자', '자질', '측정', '도구개발', '당화'], ['시각장애인', '건강체력', '규준', '설정'], ['장애인', '운동', '참여', '생태학', '변인', '측정', '도구개발'], ['통합체육수업', '교수', '수정', '중재', '장애학생', '행동', '수업', '참여', '행동', '신체활동', '효과'], ['감각', '운동', '통합', '프로그램', '뇌성마비아동', '운동', '제어', '영향'], ['스노보드', '훈련', '지적장애학생', '평형', '성과', '민첩성', '영향'], ['유산소운동', '체형', '분류', '비만', '지적장애학생', '혈액', '분과', '건강체력', '변화', '영향'], ['특수체육', '전공자', '윤리', '민감', '영향', '요인'], ['특수', '학급', '학생', '여가', '활동', '실태'], ['지체장애인', '배구', '참여', '여부', '사회', '발달', '영향'], ['예비특수', '체육교사', '모의', '체육', '수업', '신체활동', '수준', '수업', '내용', '수업', '행동'], ['장애인', '국가대표', '선수', '운동', '상해', '유형'], ['비만', '분류', '지적장애학생', '유산소운동', '운동', '신체형', '태변', '영향'], ['오스카', '피스토리우스', '장애인스포츠', '참여', '논쟁', '텍스트'], ['음악', '줄넘기', '운동', '정신장애', '여성', '신체', '구성', '근력', '밀도', '영향'], ['특수체육교사', '교직', '생활', '내러티브'], ['보행', '시스템', '이용', '다운증후군', '아동', '보행', '특성'], ['성공', '통합체육', '구성요소', '순위'], ['장애인', '뉴스', '포츠', '프로그램', '참여', '저해', '인과', '활성화', '종목', '개발자', '견해'], ['성별', '지적장애아동', '프로그램', '학생', '건강체력', '자기', '결정', '효과'], ['학급', '차원', '긍정', '행동', '지원이', '통합체육수업', '장애학생', '수업', '행동', '교사', '상호작용', '신체활동', '효과'], ['재적', '루틴', '보치아', '선수', '초구', '던지기', '수행능력', '향상', '효과'], ['한국미국', '특수체육', '동향', '비교', '중심'], ['장애인스포츠', '영상', '매체', '체육', '수업', '중학생', '장애인', '태도', '영향'], ['운동', '기능', '중심', '특수체육', '활동', '발달장애', '유아', '운동', '기술', '영향', '운동', '발달', '단계', '특성'], ['자아', '인지', '연습', '맥락', '간섭', '효과', '발달', '협응력', '장애', '운동', '기술', '학습', '영향'], ['장애인', '스포츠', '참가자', '기본', '심리', '욕구', '스포츠', '참여', '동기', '운동', '지속', '의도'], ['휠체어', '이용자', '예측', '휠체어', '셔틀', '테스트', '타당성'], ['저항', '운동', '고령', '장애인', '일상생활', '체력', '심혈관계', '위험', '요인', '영향'], ['특수체육', '내러티브', '잠재', '기여'], ['승마', '뇌성마비아동', '평형', '척추', '자세', '영향'], ['스포츠', '참가', '척수', '장애인', '사회', '지지', '장애', '용감', '영향'], ['장애', '아동', '청소년', '심폐', '체력', '장애', '유형', '다중', '비교'], ['장애', '청소년', '피지', '리터', '러시', '개념', '탐색'], ['특수', '학교', '운동', '부지', '자의', '운동', '운영', '과정', '경험', '근거', '이론', '접근'], ['장애인', '생활체육', '지도자', '장애인', '지도', '의도', '행동', '계획', '행동', '이론', '중심'], ['인지', '기능', '장애인', '보행', '국내', '운동', '역학', '동향'], ['신체활동', '중재', '프로그램', '노인', '우울증', '영향', '이후', '메타분석'], ['재활', '운동', '체육', '프로그램', '성인', '중증', '뇌성마비', '자세', '정렬', '상체', '유연성', '호흡', '기능', '영향'], ['장애', '노인', '재활', '운동', '프로그램', '비교', '한국미국', '일본', '사례', '중심'], ['게임', '스마트', '기기', '심리', '운동', '자폐', '범주', '아동', '수업', '참여', '행동', '영향'], ['장애학생', '상호', '협력', '행동', '장애학생', '신념', '측정', '도구개발'], ['지적장애아동', '인지', '능력', '적응', '행동', '발달', '운동', '숙련', '운동', '발달'], ['지역', '사회', '장애인', '체육', '스포츠', '거버넌스', '발전방안', '학교', '체육', '생활체육', '중심'], ['생활체육', '참여', '장애인', '건강', '상태', '지각', '건강증진', '행동', '질의'], ['지적장애학생', '신체활동', '수준', '비만', '폐지', '구력', '영향'], ['장애인체육', '행정', '조직', '구성원', '직무', '스트레스', '조직', '유효', '영향'], ['특수체육', '질적연구', '패러다임', '기여', '한계'], ['통합체육수업', '특수', '학급', '체육', '수업', '시간', '지적장애학생', '신체활동', '수준', '비교'], ['지적장애', '남자', '아동', '신체활동'], ['장애인스포츠', '실업팀', '활성화', '제도', '개선방안'], ['특수교육', '학생', '체력', '증진', '학생', '건강체력', '평가', '시스템'], ['장애학생', '건강체력', '검사', '도구', '동시', '타당도'], ['지적장애학생', '건강체력', '측정', '평가', '준치', '설정'], ['경도', '발달장애', '청소년', '태권도', '프로그램', '개발', '효과'], ['휠체어', '트레드밀', '운동', '심박수', '이용', '에너지', '비량', '추정'], ['플라이', '오메', '트릭', '훈련', '고등학교', '정신지체', '축구선수', '관절', '등속', '근력', '영향'], ['학교', '일과', '지적장애학생', '장애학생', '신체활동', '수준', '비교'], ['목표', '근접', '설정', '정신지체', '학생', '운동수행', '영향'], ['체육', '수업', '게임', '놀이', '프로그램', '정신지체', '학생', '사회', '기술', '장애학생', '또래', '수용', '효과'], ['장애인체육', '행정', '전달', '체계', '개선방안', '지부', '설립', '중심'], ['지적장애', '운동수행', '프로파일', '당화'], ['장애인', '운동선수', '기본', '심리', '욕구', '운동수행', '인과관계', '배경', '변인', '조절', '효과'], ['당뇨병', '척수', '장애인', '복부', '지방', '아디', '사이토카인', '대사', '증후군', '위험', '인자', '비교'], ['특수체육', '지도자', '스페셜올림픽', '참여', '경험', '교육', '신념'], ['지적장애', '작업기억', '용량', '집행', '기능', '부하', '목표', '지향', '이동', '수행', '영향'], ['방과', '배드민턴', '활동', '참여', '지적장애', '청소년', '혈액', '성분', '백혈구', '효과'], ['농구', '운동', '프로그램', '과체중', '지적장애학생', '신체조', '대사', '증후군', '위험', '요인', '체력', '영향'], ['복합', '재활', '운동', '뇌졸중', '마비', '장애인', '역학', '변인', '기능', '체력', '등속', '관절', '기능', '영향'], ['지적장애', '특수', '학교', '체육', '수업', '체감', '비디오', '테니스', '게임', '실행'], ['성적', '사고', '교육', '예비특수', '체육교사', '성적', '사고', '수준', '교수', '행동', '변화', '영향'], ['생애', '지적장애', '신체활동', '이해'], ['정상화', '원리', '일반', '학교', '통합체육', '문화', '문제', '장애학생', '실존', '탐색'], ['장애인스포츠', '타이틀', '스폰서', '기업', '이미지', '브랜드', '태도', '의도', '영향'], ['지체장애인', '인구', '사회학', '특성', '체육', '활동', '참여', '정도', '질의', '예측', '모형'], ['근력', '강화', '운동', '마비', '장애인', '균형', '일상생활', '동작', '효과'], ['남성', '척수', '장애인', '건강체력', '평가', '기준', '개발'], ['특수체육', '지도자', '양성', '특수체육', '교육', '학생', '전공', '교과', '과정', '만족도', '개선방안'], ['기분장애', '무릎', '걷기', '동작', '운동', '역학', '장애인', '무용', '교육', '한국', '무용', '가능성탐색'], ['통합체육수업', '참가', '장애', '대학생', '부정', '지각', '대처', '방식'], ['활동', '관찰', '지적장애', '중학생', '골프', '영향'], ['장애인', '직장', '체육', '활동', '사회', '심리학', '생리학', '요인', '효과'], ['지적장애', '스포츠', '대회', '참가', '경험', '사회', '정서', '발달'], ['신체활동', '척수', '장애인', '비만', '평가'], ['장애인체육', '행정', '조직', '구성원', '정서', '역량', '조직', '효과', '성의'], ['전문', '장애인', '선수', '지원', '서비스', '요구', '조사', '도구개발', '당화'], ['여성', '척수', '장애', '선수', '스포츠', '적응', '과정', '이해'], ['대퇴골', '분리', '수술', '재활', '운동', '관절', '기능', '고유', '수용성', '능력', '통증', '척도', '영향'], ['체육', '시설', '장애인', '쿼터'], ['전국', '장애인체육', '대회', '운영', '개선'], ['성인', '지적장애', '신체활동', '지원', '체계', '척도', '개발'], ['코로나', '장애인체육', '회의', '비대', '수업', '현장', '반응', '탐색', '정책', '제안'], ['심리', '운동', '사가', '발달', '재활', '서비스', '기관', '체험', '어려움', '고찰'], ['성인', '자폐', '장애', '자녀', '신체활동', '보호자', '현상학', '인식', '탐색'], ['다비', '체육', '센터', '운영', '지원', '방안'], ['장애인', '국가대표', '태권도', '선수', '경기', '향상', '지원', '체계', '현황'], ['국내', '통합체육', '동향', '텍스트', '이닝'], ['예비', '경력', '체육교사', '통합체육', '교수', '내용', '지식', '개념', '비교'], ['장애인체육', '지원', '법률', '제정', '필요', '방향'], ['재활', '운동', '체육', '개념', '이해관계자', '인식', '차이'], ['유니버설', '디자인', '수영장', '시설', '가이드라인', '개발'], ['한국미국', '특수체육', '동향', '비교', '중심'], ['휠체어', '탁구선수', '유니폼', '개발', '동작', '체표', '변화'], ['국내', '장애인', '선수', '은퇴', '동향'], ['장애인스포츠', '폭력', '측정', '도구개발', '당화'], ['병변', '장애인', '건강', '관심', '주관', '건강', '수준', '영향', '건강', '행동', '매개효과'], ['생활체육', '참여', '장애인', '운동', '몰입', '운동', '만족', '사회', '성의', '자기', '결정성', '이론'], ['장애인', '생활체육', '운동', '효과', '영향', '요인', '전국', '장애인', '생활체육', '참여', '실태', '조사', '이용', '위계', '회귀분석'], ['체육', '시설', '장애인', '이용권', '리보', '방안', '사용', '배려', '공간', '지정', '중심'], ['장애물', '장애인스포츠', '환경', '인증', '기준', '타당성', '조사'], ['장애인', '운동', '참여', '이양', '기적', '차원', '영향력', '잠재', '이모'], ['뇌졸중', '장애인', '산소', '신체활동', '실천', '여부', '주관', '건강', '상태', '건강', '영향'], ['보완', '대체', '의사소통', '기구', '심리', '운동', '자폐', '아동', '사회', '상호작용', '영향'], ['다운증후군', '아동', '발목', '근력', '유연성', '향상', '운동', '프로그램', '참여', '보행', '패턴', '균형능력', '영향'], ['청각장애', '건강', '신념', '계획', '행동', '건강증진', '행동', '영향'], ['혁신', '저항', '모델', '가상현실', '스포츠', '참여', '지체장애인', '수용', '의도'], ['승패', '요인', '데이터마이닝', '의사결정', '나무'], ['모형', '프리', '젠티즘', '척도', '타당도', '증거', '장애인스포츠지도자', '생활', '스포츠', '지도자', '비교'], ['뇌성마비', '장애인', '프린팅', '맞춤', '인솔', '착용', '보행', '경험', '사용자', '참여', '디자인', '중심'], ['장애학생', '스포츠클럽', '수업', '장애학생', '상호', '협력', '행동', '윤리', '민감', '공동체', '의식', '영향'], ['여성', '장애인', '체육', '활동', '경험', '인권', '인식', '질적', '사례'], ['예비특수', '체육', '교사', '창의', '서번트', '리더십', '프로그램', '효과'], ['대학', '발달장애', '고등교육', '특수체육', '가치', '탐색', '사례'], ['발달장애', '아동', '청소년', '신체활동', '촉진', '부모', '지원', '이해'], ['발달', '재활', '서비스', '특수체육', '가치', '가능성', '성인기', '자폐', '자녀', '어머니', '경험', '이야기'], ['장애인스포츠', '강좌', '이용권', '사업', '개선방안'], ['베이징', '동계', '패럴림픽', '대비', '평창동', '패럴림픽', '성과', '과제'], ['스페셜올림픽', '유산', '정책']]\n"
          ]
        }
      ]
    },
    {
      "cell_type": "code",
      "source": [],
      "metadata": {
        "id": "qfH6aLcCgcoq"
      },
      "execution_count": null,
      "outputs": []
    }
  ]
}