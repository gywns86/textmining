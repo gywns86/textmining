{
 "cells": [
  {
   "cell_type": "code",
   "execution_count": null,
   "metadata": {},
   "outputs": [],
   "source": [
    "# FBS 팀명단 수집 코드\n",
    "\n",
    "import requests\n",
    "from bs4 import BeautifulSoup\n",
    "import pandas as pd\n",
    "\n",
    "\n",
    "\n",
    "team_name = []\n",
    "\n",
    "url = \"https://www.ncaa.com/standings/football/fbs\"\n",
    "  \n",
    "response = requests.get(url) #url로 요청하기 - 고정\n",
    "contents = BeautifulSoup(response.content,'html.parser')#html 문서 파싱 - 고정\n",
    "\n",
    "teams = contents.select(\"td.standings-team\") # 추출하고자 하는 데이터의 위치\n",
    "\n",
    "for a in teams:\n",
    "    team_name.append(a.text)\n",
    "    \n",
    "    \n",
    "    "
   ]
  },
  {
   "cell_type": "code",
   "execution_count": null,
   "metadata": {},
   "outputs": [],
   "source": [
    "# Football 자료수집 코드\n",
    "\n",
    "import requests\n",
    "from bs4 import BeautifulSoup\n",
    "import pandas as pd\n",
    "\n",
    "df = pd.DataFrame() # 빈 데이터프레임 생성\n",
    "\n",
    "team_name, score_list = [],[]\n",
    "\n",
    "for page in range(1,16):\n",
    "    if page < 10:\n",
    "        url = \"https://www.ncaa.com/scoreboard/football/fbs/2022/0\"+str(page)+\"/all-conf\"\n",
    "    else:\n",
    "        url = \"https://www.ncaa.com/scoreboard/football/fbs/2022/\"+str(page)+\"/all-conf\"\n",
    "  \n",
    "    response = requests.get(url) #url로 요청하기 - 고정\n",
    "    contents = BeautifulSoup(response.content,'html.parser')#html 문서 파싱 - 고정\n",
    "\n",
    "    teams = contents.select(\"span.gamePod-game-team-name\") # 추출하고자 하는 데이터의 위치\n",
    "\n",
    "    for a in teams:\n",
    "        team_name.append(a.text)\n",
    "    \n",
    "    score = contents.select(\"span.gamePod-game-team-score\")\n",
    "\n",
    "    for b in score:\n",
    "        score_list.append(b.text)\n",
    "        \n",
    "df = pd.DataFrame()\n",
    "\n",
    "\n",
    "b,c,d,e = [],[],[],[]\n",
    "for a in range(0,len(team_name),2):\n",
    "    b.append(team_name[a])\n",
    "\n",
    "for a in range(1,len(team_name),2):\n",
    "    c.append(team_name[a])\n",
    "\n",
    "for a in range(0,len(score_list),2):\n",
    "    d.append(score_list[a])\n",
    "\n",
    "for a in range(1,len(score_list),2):\n",
    "    e.append(score_list[a])\n",
    "\n",
    "\n",
    "df[\"hometeam\"] = b\n",
    "df[\"awayteam\"] = c\n",
    "df[\"homescore\"] = d\n",
    "df[\"awayscore\"] = e\n",
    "\n",
    "df.to_excel(\"result.xlsx\")  # 엑셀로 보내기"
   ]
  },
  {
   "cell_type": "code",
   "execution_count": 3,
   "metadata": {},
   "outputs": [
    {
     "name": "stderr",
     "output_type": "stream",
     "text": [
      "c:\\users\\cspa\\appdata\\local\\programs\\python\\python38\\lib\\site-packages\\urllib3\\connectionpool.py:1013: InsecureRequestWarning: Unverified HTTPS request is being made to host 'www.ncaa.com'. Adding certificate verification is strongly advised. See: https://urllib3.readthedocs.io/en/latest/advanced-usage.html#ssl-warnings\n",
      "  warnings.warn(\n",
      "c:\\users\\cspa\\appdata\\local\\programs\\python\\python38\\lib\\site-packages\\urllib3\\connectionpool.py:1013: InsecureRequestWarning: Unverified HTTPS request is being made to host 'www.ncaa.com'. Adding certificate verification is strongly advised. See: https://urllib3.readthedocs.io/en/latest/advanced-usage.html#ssl-warnings\n",
      "  warnings.warn(\n",
      "c:\\users\\cspa\\appdata\\local\\programs\\python\\python38\\lib\\site-packages\\urllib3\\connectionpool.py:1013: InsecureRequestWarning: Unverified HTTPS request is being made to host 'www.ncaa.com'. Adding certificate verification is strongly advised. See: https://urllib3.readthedocs.io/en/latest/advanced-usage.html#ssl-warnings\n",
      "  warnings.warn(\n",
      "c:\\users\\cspa\\appdata\\local\\programs\\python\\python38\\lib\\site-packages\\urllib3\\connectionpool.py:1013: InsecureRequestWarning: Unverified HTTPS request is being made to host 'www.ncaa.com'. Adding certificate verification is strongly advised. See: https://urllib3.readthedocs.io/en/latest/advanced-usage.html#ssl-warnings\n",
      "  warnings.warn(\n",
      "c:\\users\\cspa\\appdata\\local\\programs\\python\\python38\\lib\\site-packages\\urllib3\\connectionpool.py:1013: InsecureRequestWarning: Unverified HTTPS request is being made to host 'www.ncaa.com'. Adding certificate verification is strongly advised. See: https://urllib3.readthedocs.io/en/latest/advanced-usage.html#ssl-warnings\n",
      "  warnings.warn(\n",
      "c:\\users\\cspa\\appdata\\local\\programs\\python\\python38\\lib\\site-packages\\urllib3\\connectionpool.py:1013: InsecureRequestWarning: Unverified HTTPS request is being made to host 'www.ncaa.com'. Adding certificate verification is strongly advised. See: https://urllib3.readthedocs.io/en/latest/advanced-usage.html#ssl-warnings\n",
      "  warnings.warn(\n",
      "c:\\users\\cspa\\appdata\\local\\programs\\python\\python38\\lib\\site-packages\\urllib3\\connectionpool.py:1013: InsecureRequestWarning: Unverified HTTPS request is being made to host 'www.ncaa.com'. Adding certificate verification is strongly advised. See: https://urllib3.readthedocs.io/en/latest/advanced-usage.html#ssl-warnings\n",
      "  warnings.warn(\n",
      "c:\\users\\cspa\\appdata\\local\\programs\\python\\python38\\lib\\site-packages\\urllib3\\connectionpool.py:1013: InsecureRequestWarning: Unverified HTTPS request is being made to host 'www.ncaa.com'. Adding certificate verification is strongly advised. See: https://urllib3.readthedocs.io/en/latest/advanced-usage.html#ssl-warnings\n",
      "  warnings.warn(\n",
      "c:\\users\\cspa\\appdata\\local\\programs\\python\\python38\\lib\\site-packages\\urllib3\\connectionpool.py:1013: InsecureRequestWarning: Unverified HTTPS request is being made to host 'www.ncaa.com'. Adding certificate verification is strongly advised. See: https://urllib3.readthedocs.io/en/latest/advanced-usage.html#ssl-warnings\n",
      "  warnings.warn(\n",
      "c:\\users\\cspa\\appdata\\local\\programs\\python\\python38\\lib\\site-packages\\urllib3\\connectionpool.py:1013: InsecureRequestWarning: Unverified HTTPS request is being made to host 'www.ncaa.com'. Adding certificate verification is strongly advised. See: https://urllib3.readthedocs.io/en/latest/advanced-usage.html#ssl-warnings\n",
      "  warnings.warn(\n",
      "c:\\users\\cspa\\appdata\\local\\programs\\python\\python38\\lib\\site-packages\\urllib3\\connectionpool.py:1013: InsecureRequestWarning: Unverified HTTPS request is being made to host 'www.ncaa.com'. Adding certificate verification is strongly advised. See: https://urllib3.readthedocs.io/en/latest/advanced-usage.html#ssl-warnings\n",
      "  warnings.warn(\n",
      "c:\\users\\cspa\\appdata\\local\\programs\\python\\python38\\lib\\site-packages\\urllib3\\connectionpool.py:1013: InsecureRequestWarning: Unverified HTTPS request is being made to host 'www.ncaa.com'. Adding certificate verification is strongly advised. See: https://urllib3.readthedocs.io/en/latest/advanced-usage.html#ssl-warnings\n",
      "  warnings.warn(\n",
      "c:\\users\\cspa\\appdata\\local\\programs\\python\\python38\\lib\\site-packages\\urllib3\\connectionpool.py:1013: InsecureRequestWarning: Unverified HTTPS request is being made to host 'www.ncaa.com'. Adding certificate verification is strongly advised. See: https://urllib3.readthedocs.io/en/latest/advanced-usage.html#ssl-warnings\n",
      "  warnings.warn(\n",
      "c:\\users\\cspa\\appdata\\local\\programs\\python\\python38\\lib\\site-packages\\urllib3\\connectionpool.py:1013: InsecureRequestWarning: Unverified HTTPS request is being made to host 'www.ncaa.com'. Adding certificate verification is strongly advised. See: https://urllib3.readthedocs.io/en/latest/advanced-usage.html#ssl-warnings\n",
      "  warnings.warn(\n",
      "c:\\users\\cspa\\appdata\\local\\programs\\python\\python38\\lib\\site-packages\\urllib3\\connectionpool.py:1013: InsecureRequestWarning: Unverified HTTPS request is being made to host 'www.ncaa.com'. Adding certificate verification is strongly advised. See: https://urllib3.readthedocs.io/en/latest/advanced-usage.html#ssl-warnings\n",
      "  warnings.warn(\n",
      "c:\\users\\cspa\\appdata\\local\\programs\\python\\python38\\lib\\site-packages\\urllib3\\connectionpool.py:1013: InsecureRequestWarning: Unverified HTTPS request is being made to host 'www.ncaa.com'. Adding certificate verification is strongly advised. See: https://urllib3.readthedocs.io/en/latest/advanced-usage.html#ssl-warnings\n",
      "  warnings.warn(\n",
      "c:\\users\\cspa\\appdata\\local\\programs\\python\\python38\\lib\\site-packages\\urllib3\\connectionpool.py:1013: InsecureRequestWarning: Unverified HTTPS request is being made to host 'www.ncaa.com'. Adding certificate verification is strongly advised. See: https://urllib3.readthedocs.io/en/latest/advanced-usage.html#ssl-warnings\n",
      "  warnings.warn(\n",
      "c:\\users\\cspa\\appdata\\local\\programs\\python\\python38\\lib\\site-packages\\urllib3\\connectionpool.py:1013: InsecureRequestWarning: Unverified HTTPS request is being made to host 'www.ncaa.com'. Adding certificate verification is strongly advised. See: https://urllib3.readthedocs.io/en/latest/advanced-usage.html#ssl-warnings\n",
      "  warnings.warn(\n",
      "c:\\users\\cspa\\appdata\\local\\programs\\python\\python38\\lib\\site-packages\\urllib3\\connectionpool.py:1013: InsecureRequestWarning: Unverified HTTPS request is being made to host 'www.ncaa.com'. Adding certificate verification is strongly advised. See: https://urllib3.readthedocs.io/en/latest/advanced-usage.html#ssl-warnings\n",
      "  warnings.warn(\n",
      "c:\\users\\cspa\\appdata\\local\\programs\\python\\python38\\lib\\site-packages\\urllib3\\connectionpool.py:1013: InsecureRequestWarning: Unverified HTTPS request is being made to host 'www.ncaa.com'. Adding certificate verification is strongly advised. See: https://urllib3.readthedocs.io/en/latest/advanced-usage.html#ssl-warnings\n",
      "  warnings.warn(\n",
      "c:\\users\\cspa\\appdata\\local\\programs\\python\\python38\\lib\\site-packages\\urllib3\\connectionpool.py:1013: InsecureRequestWarning: Unverified HTTPS request is being made to host 'www.ncaa.com'. Adding certificate verification is strongly advised. See: https://urllib3.readthedocs.io/en/latest/advanced-usage.html#ssl-warnings\n",
      "  warnings.warn(\n",
      "c:\\users\\cspa\\appdata\\local\\programs\\python\\python38\\lib\\site-packages\\urllib3\\connectionpool.py:1013: InsecureRequestWarning: Unverified HTTPS request is being made to host 'www.ncaa.com'. Adding certificate verification is strongly advised. See: https://urllib3.readthedocs.io/en/latest/advanced-usage.html#ssl-warnings\n",
      "  warnings.warn(\n",
      "c:\\users\\cspa\\appdata\\local\\programs\\python\\python38\\lib\\site-packages\\urllib3\\connectionpool.py:1013: InsecureRequestWarning: Unverified HTTPS request is being made to host 'www.ncaa.com'. Adding certificate verification is strongly advised. See: https://urllib3.readthedocs.io/en/latest/advanced-usage.html#ssl-warnings\n",
      "  warnings.warn(\n",
      "c:\\users\\cspa\\appdata\\local\\programs\\python\\python38\\lib\\site-packages\\urllib3\\connectionpool.py:1013: InsecureRequestWarning: Unverified HTTPS request is being made to host 'www.ncaa.com'. Adding certificate verification is strongly advised. See: https://urllib3.readthedocs.io/en/latest/advanced-usage.html#ssl-warnings\n",
      "  warnings.warn(\n",
      "c:\\users\\cspa\\appdata\\local\\programs\\python\\python38\\lib\\site-packages\\urllib3\\connectionpool.py:1013: InsecureRequestWarning: Unverified HTTPS request is being made to host 'www.ncaa.com'. Adding certificate verification is strongly advised. See: https://urllib3.readthedocs.io/en/latest/advanced-usage.html#ssl-warnings\n",
      "  warnings.warn(\n"
     ]
    },
    {
     "name": "stderr",
     "output_type": "stream",
     "text": [
      "c:\\users\\cspa\\appdata\\local\\programs\\python\\python38\\lib\\site-packages\\urllib3\\connectionpool.py:1013: InsecureRequestWarning: Unverified HTTPS request is being made to host 'www.ncaa.com'. Adding certificate verification is strongly advised. See: https://urllib3.readthedocs.io/en/latest/advanced-usage.html#ssl-warnings\n",
      "  warnings.warn(\n",
      "c:\\users\\cspa\\appdata\\local\\programs\\python\\python38\\lib\\site-packages\\urllib3\\connectionpool.py:1013: InsecureRequestWarning: Unverified HTTPS request is being made to host 'www.ncaa.com'. Adding certificate verification is strongly advised. See: https://urllib3.readthedocs.io/en/latest/advanced-usage.html#ssl-warnings\n",
      "  warnings.warn(\n",
      "c:\\users\\cspa\\appdata\\local\\programs\\python\\python38\\lib\\site-packages\\urllib3\\connectionpool.py:1013: InsecureRequestWarning: Unverified HTTPS request is being made to host 'www.ncaa.com'. Adding certificate verification is strongly advised. See: https://urllib3.readthedocs.io/en/latest/advanced-usage.html#ssl-warnings\n",
      "  warnings.warn(\n",
      "c:\\users\\cspa\\appdata\\local\\programs\\python\\python38\\lib\\site-packages\\urllib3\\connectionpool.py:1013: InsecureRequestWarning: Unverified HTTPS request is being made to host 'www.ncaa.com'. Adding certificate verification is strongly advised. See: https://urllib3.readthedocs.io/en/latest/advanced-usage.html#ssl-warnings\n",
      "  warnings.warn(\n",
      "c:\\users\\cspa\\appdata\\local\\programs\\python\\python38\\lib\\site-packages\\urllib3\\connectionpool.py:1013: InsecureRequestWarning: Unverified HTTPS request is being made to host 'www.ncaa.com'. Adding certificate verification is strongly advised. See: https://urllib3.readthedocs.io/en/latest/advanced-usage.html#ssl-warnings\n",
      "  warnings.warn(\n",
      "c:\\users\\cspa\\appdata\\local\\programs\\python\\python38\\lib\\site-packages\\urllib3\\connectionpool.py:1013: InsecureRequestWarning: Unverified HTTPS request is being made to host 'www.ncaa.com'. Adding certificate verification is strongly advised. See: https://urllib3.readthedocs.io/en/latest/advanced-usage.html#ssl-warnings\n",
      "  warnings.warn(\n",
      "c:\\users\\cspa\\appdata\\local\\programs\\python\\python38\\lib\\site-packages\\urllib3\\connectionpool.py:1013: InsecureRequestWarning: Unverified HTTPS request is being made to host 'www.ncaa.com'. Adding certificate verification is strongly advised. See: https://urllib3.readthedocs.io/en/latest/advanced-usage.html#ssl-warnings\n",
      "  warnings.warn(\n"
     ]
    }
   ],
   "source": [
    "# Football 자료수집 코드\n",
    "\n",
    "import requests\n",
    "from bs4 import BeautifulSoup\n",
    "import pandas as pd\n",
    "\n",
    "df = pd.DataFrame() # 빈 데이터프레임 생성\n",
    "\n",
    "team_name, score_list = [],[]\n",
    "\n",
    "for page in range(1,17):\n",
    "    if page < 10:\n",
    "        url = \"https://www.ncaa.com/scoreboard/football/fcs/2022/0\"+str(page)+\"/all-conf\"\n",
    "\n",
    "    else:\n",
    "        url = \"https://www.ncaa.com/scoreboard/football/fcs/2022/\"+str(page)+\"/all-conf\"\n",
    "  \n",
    "    response = requests.get(url, verify=False) #url로 요청하기 - 고정\n",
    "    contents = BeautifulSoup(response.content,'html.parser')#html 문서 파싱 - 고정\n",
    "\n",
    "    teams = contents.select(\"span.gamePod-game-team-name\") # 추출하고자 하는 데이터의 위치\n",
    "\n",
    "    for a in teams:\n",
    "        team_name.append(a.text)\n",
    "    \n",
    "    score = contents.select(\"span.gamePod-game-team-score\")\n",
    "\n",
    "    for b in score:\n",
    "        score_list.append(b.text)\n",
    "        \n",
    "df = pd.DataFrame()\n",
    "\n",
    "\n",
    "b,c,d,e = [],[],[],[]\n",
    "for a in range(0,len(team_name),2):\n",
    "    b.append(team_name[a])\n",
    "\n",
    "for a in range(1,len(team_name),2):\n",
    "    c.append(team_name[a])\n",
    "\n",
    "for a in range(0,len(score_list),2):\n",
    "    d.append(score_list[a])\n",
    "\n",
    "for a in range(1,len(score_list),2):\n",
    "    e.append(score_list[a])\n",
    "\n",
    "\n",
    "df[\"hometeam\"] = b\n",
    "df[\"awayteam\"] = c\n",
    "df[\"homescore\"] = d\n",
    "df[\"awayscore\"] = e\n",
    "\n",
    "df.to_excel(\"fcs.xlsx\")  # 엑셀로 보내기"
   ]
  },
  {
   "cell_type": "code",
   "execution_count": 39,
   "metadata": {},
   "outputs": [],
   "source": [
    "import pandas as pd\n",
    "\n",
    "data = pd.read_excel(\"Raw.xlsx\")"
   ]
  },
  {
   "cell_type": "code",
   "execution_count": 40,
   "metadata": {},
   "outputs": [],
   "source": [
    "team = []\n",
    "\n",
    "for a in data[\"hometeam\"]:\n",
    "    team.append(a)\n",
    "    \n",
    "for a in data[\"awayteam\"]:\n",
    "    team.append(a)"
   ]
  },
  {
   "cell_type": "code",
   "execution_count": 41,
   "metadata": {},
   "outputs": [
    {
     "data": {
      "text/plain": [
       "306"
      ]
     },
     "execution_count": 41,
     "metadata": {},
     "output_type": "execute_result"
    }
   ],
   "source": [
    "team = list(set(team))\n",
    "len(team)"
   ]
  },
  {
   "cell_type": "code",
   "execution_count": 25,
   "metadata": {},
   "outputs": [
    {
     "name": "stderr",
     "output_type": "stream",
     "text": [
      "c:\\users\\cspa\\appdata\\local\\programs\\python\\python38\\lib\\site-packages\\urllib3\\connectionpool.py:1013: InsecureRequestWarning: Unverified HTTPS request is being made to host 'www.ncaa.com'. Adding certificate verification is strongly advised. See: https://urllib3.readthedocs.io/en/latest/advanced-usage.html#ssl-warnings\n",
      "  warnings.warn(\n",
      "c:\\users\\cspa\\appdata\\local\\programs\\python\\python38\\lib\\site-packages\\urllib3\\connectionpool.py:1013: InsecureRequestWarning: Unverified HTTPS request is being made to host 'www.ncaa.com'. Adding certificate verification is strongly advised. See: https://urllib3.readthedocs.io/en/latest/advanced-usage.html#ssl-warnings\n",
      "  warnings.warn(\n"
     ]
    }
   ],
   "source": [
    "# FBS 팀명단 수집 코드\n",
    "\n",
    "import requests\n",
    "from bs4 import BeautifulSoup\n",
    "import pandas as pd\n",
    "\n",
    "\n",
    "\n",
    "team_name = []\n",
    "\n",
    "url = \"https://www.ncaa.com/standings/football/fbs\"\n",
    "  \n",
    "response = requests.get(url,verify=False) #url로 요청하기 - 고정\n",
    "contents = BeautifulSoup(response.content,'html.parser')#html 문서 파싱 - 고정\n",
    "\n",
    "teams = contents.select(\"td.standings-team\") # 추출하고자 하는 데이터의 위치\n",
    "\n",
    "for a in teams:\n",
    "    team_name.append(a.text)\n",
    "    \n",
    "\n",
    "url = \"https://www.ncaa.com/standings/football/fcs\"\n",
    "  \n",
    "response = requests.get(url,verify=False) #url로 요청하기 - 고정\n",
    "contents = BeautifulSoup(response.content,'html.parser')#html 문서 파싱 - 고정\n",
    "\n",
    "teams = contents.select(\"td.standings-team\") # 추출하고자 하는 데이터의 위치\n",
    "\n",
    "for a in teams:\n",
    "    team_name.append(a.text)\n",
    "    "
   ]
  },
  {
   "cell_type": "code",
   "execution_count": 34,
   "metadata": {},
   "outputs": [
    {
     "data": {
      "text/plain": [
       "261"
      ]
     },
     "execution_count": 34,
     "metadata": {},
     "output_type": "execute_result"
    }
   ],
   "source": [
    "len(team_name)"
   ]
  },
  {
   "cell_type": "code",
   "execution_count": 43,
   "metadata": {},
   "outputs": [],
   "source": [
    "for a in team_name:\n",
    "    team1 = team.remove(a)"
   ]
  },
  {
   "cell_type": "code",
   "execution_count": 36,
   "metadata": {},
   "outputs": [
    {
     "name": "stdout",
     "output_type": "stream",
     "text": [
      "None\n"
     ]
    }
   ],
   "source": [
    "print(team1)"
   ]
  },
  {
   "cell_type": "code",
   "execution_count": 46,
   "metadata": {},
   "outputs": [
    {
     "data": {
      "text/plain": [
       "['Eastern N.M.',\n",
       " 'La. Christian',\n",
       " 'Winston-Salem',\n",
       " 'UVA Wise',\n",
       " 'Post',\n",
       " 'Thomas More',\n",
       " 'Bloomsburg',\n",
       " 'Michigan Tech',\n",
       " 'William Jewell',\n",
       " 'Warner',\n",
       " 'Edward Waters',\n",
       " 'Kentucky St.',\n",
       " 'Morehouse',\n",
       " 'Miles',\n",
       " 'Lane',\n",
       " 'Taylor (IN)',\n",
       " 'Keiser',\n",
       " 'Barton',\n",
       " 'St. Andrews',\n",
       " 'Faulkner',\n",
       " 'Mars Hill',\n",
       " 'La Verne',\n",
       " 'Lincoln (CA)',\n",
       " 'Ky. Christian',\n",
       " 'Mississippi Col.',\n",
       " 'Virginia-Lynchburg',\n",
       " 'Lincoln (PA)',\n",
       " 'Concordia (MI)',\n",
       " 'St. Thomas (FL)',\n",
       " 'Western N.M.',\n",
       " 'McKendree',\n",
       " 'North Greenville',\n",
       " 'Missouri S&T',\n",
       " 'Assumption',\n",
       " 'Ind. Wesleyan',\n",
       " 'Albany St. (GA)',\n",
       " 'Western Ore.',\n",
       " 'Delta St.',\n",
       " 'Tuskegee',\n",
       " 'North American',\n",
       " 'Southwest Baptist',\n",
       " 'Fla. Memorial',\n",
       " 'Chadron St.',\n",
       " 'Limestone',\n",
       " 'Southern Conn. St.']"
      ]
     },
     "execution_count": 46,
     "metadata": {},
     "output_type": "execute_result"
    }
   ],
   "source": [
    "team"
   ]
  },
  {
   "cell_type": "code",
   "execution_count": 47,
   "metadata": {},
   "outputs": [
    {
     "name": "stderr",
     "output_type": "stream",
     "text": [
      "c:\\users\\cspa\\appdata\\local\\programs\\python\\python38\\lib\\site-packages\\urllib3\\connectionpool.py:1013: InsecureRequestWarning: Unverified HTTPS request is being made to host 'www.ncaa.com'. Adding certificate verification is strongly advised. See: https://urllib3.readthedocs.io/en/latest/advanced-usage.html#ssl-warnings\n",
      "  warnings.warn(\n",
      "c:\\users\\cspa\\appdata\\local\\programs\\python\\python38\\lib\\site-packages\\urllib3\\connectionpool.py:1013: InsecureRequestWarning: Unverified HTTPS request is being made to host 'www.ncaa.com'. Adding certificate verification is strongly advised. See: https://urllib3.readthedocs.io/en/latest/advanced-usage.html#ssl-warnings\n",
      "  warnings.warn(\n"
     ]
    }
   ],
   "source": [
    "# Football 자료수집 코드\n",
    "\n",
    "import requests\n",
    "from bs4 import BeautifulSoup\n",
    "import pandas as pd\n",
    "\n",
    "df = pd.DataFrame() # 빈 데이터프레임 생성\n",
    "\n",
    "team_name, score_list = [],[]\n",
    "\n",
    "url = \"https://www.ncaa.com/scoreboard/football/fbs/2022/P/all-conf\"\n",
    "  \n",
    "response = requests.get(url,verify=False) #url로 요청하기 - 고정\n",
    "contents = BeautifulSoup(response.content,'html.parser')#html 문서 파싱 - 고정\n",
    "\n",
    "teams = contents.select(\"span.gamePod-game-team-name\") # 추출하고자 하는 데이터의 위치\n",
    "\n",
    "for a in teams:\n",
    "    team_name.append(a.text)\n",
    "    \n",
    "score = contents.select(\"span.gamePod-game-team-score\")\n",
    "\n",
    "for b in score:\n",
    "    score_list.append(b.text)\n",
    "        \n",
    "df = pd.DataFrame()\n",
    "\n",
    "\n",
    "b,c,d,e = [],[],[],[]\n",
    "for a in range(0,len(team_name),2):\n",
    "    b.append(team_name[a])\n",
    "\n",
    "for a in range(1,len(team_name),2):\n",
    "    c.append(team_name[a])\n",
    "\n",
    "for a in range(0,len(score_list),2):\n",
    "    d.append(score_list[a])\n",
    "\n",
    "for a in range(1,len(score_list),2):\n",
    "    e.append(score_list[a])\n",
    "\n",
    "\n",
    "df[\"hometeam\"] = b\n",
    "df[\"awayteam\"] = c\n",
    "df[\"homescore\"] = d\n",
    "df[\"awayscore\"] = e\n",
    "\n",
    "df.to_excel(\"BOWL.xlsx\")  # 엑셀로 보내기"
   ]
  },
  {
   "cell_type": "code",
   "execution_count": null,
   "metadata": {},
   "outputs": [],
   "source": []
  }
 ],
 "metadata": {
  "kernelspec": {
   "display_name": "Python 3",
   "language": "python",
   "name": "python3"
  },
  "language_info": {
   "codemirror_mode": {
    "name": "ipython",
    "version": 3
   },
   "file_extension": ".py",
   "mimetype": "text/x-python",
   "name": "python",
   "nbconvert_exporter": "python",
   "pygments_lexer": "ipython3",
   "version": "3.8.10"
  }
 },
 "nbformat": 4,
 "nbformat_minor": 4
}
